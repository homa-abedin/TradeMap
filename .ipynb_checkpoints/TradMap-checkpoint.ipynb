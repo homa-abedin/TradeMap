{
 "cells": [
  {
   "cell_type": "code",
   "execution_count": 62,
   "metadata": {},
   "outputs": [],
   "source": [
    "from selenium import webdriver\n",
    "from selenium.webdriver.common.by import By\n",
    "import pandas as pd\n",
    "from itertools import chain\n",
    "from selenium.webdriver.support.ui import WebDriverWait\n",
    "from selenium.webdriver.support import expected_conditions as EC\n",
    "import time\n",
    "from selenium.webdriver.support.ui import WebDriverWait\n",
    "from selenium.webdriver.support.ui import Select\n",
    "from selenium.webdriver.common.keys import Keys\n",
    "import numpy as np\n",
    "from numpy import random"
   ]
  },
  {
   "cell_type": "code",
   "execution_count": 209,
   "metadata": {},
   "outputs": [
    {
     "data": {
      "text/html": [
       "<div>\n",
       "<style scoped>\n",
       "    .dataframe tbody tr th:only-of-type {\n",
       "        vertical-align: middle;\n",
       "    }\n",
       "\n",
       "    .dataframe tbody tr th {\n",
       "        vertical-align: top;\n",
       "    }\n",
       "\n",
       "    .dataframe thead th {\n",
       "        text-align: right;\n",
       "    }\n",
       "</style>\n",
       "<table border=\"1\" class=\"dataframe\">\n",
       "  <thead>\n",
       "    <tr style=\"text-align: right;\">\n",
       "      <th></th>\n",
       "      <th>Country</th>\n",
       "      <th>Unnamed: 1</th>\n",
       "      <th>Country1</th>\n",
       "      <th>Unnamed: 3</th>\n",
       "    </tr>\n",
       "  </thead>\n",
       "  <tbody>\n",
       "    <tr>\n",
       "      <th>0</th>\n",
       "      <td>Afghanistan</td>\n",
       "      <td>NaN</td>\n",
       "      <td>Afghanistan</td>\n",
       "      <td>NaN</td>\n",
       "    </tr>\n",
       "    <tr>\n",
       "      <th>1</th>\n",
       "      <td>Albania</td>\n",
       "      <td>NaN</td>\n",
       "      <td>Albania</td>\n",
       "      <td>NaN</td>\n",
       "    </tr>\n",
       "  </tbody>\n",
       "</table>\n",
       "</div>"
      ],
      "text/plain": [
       "       Country  Unnamed: 1     Country1 Unnamed: 3\n",
       "0  Afghanistan         NaN  Afghanistan        NaN\n",
       "1      Albania         NaN      Albania        NaN"
      ]
     },
     "execution_count": 209,
     "metadata": {},
     "output_type": "execute_result"
    }
   ],
   "source": [
    "all_countries=pd.read_csv(\"C:/Users/homa/Python-Notbook/TradeMap/all_countries.csv\")\n",
    "Product_Code=pd.read_csv(\"C:/Users/homa/Python-Notbook/TradeMap/Product_Codem.csv\")\n",
    "all_countries.head(2)"
   ]
  },
  {
   "cell_type": "code",
   "execution_count": 64,
   "metadata": {},
   "outputs": [],
   "source": [
    "\n",
    "driver= webdriver.Chrome()\n"
   ]
  },
  {
   "cell_type": "code",
   "execution_count": 65,
   "metadata": {},
   "outputs": [],
   "source": [
    "driver.get(\"https://www.trademap.org/Index.aspx\")"
   ]
  },
  {
   "cell_type": "code",
   "execution_count": 5,
   "metadata": {},
   "outputs": [],
   "source": [
    "driver.maximize_window()"
   ]
  },
  {
   "cell_type": "code",
   "execution_count": 66,
   "metadata": {},
   "outputs": [],
   "source": [
    "\n",
    "waits= WebDriverWait(driver, 30)"
   ]
  },
  {
   "cell_type": "markdown",
   "metadata": {},
   "source": [
    "## Login Users"
   ]
  },
  {
   "cell_type": "code",
   "execution_count": 17,
   "metadata": {},
   "outputs": [],
   "source": [
    "def loginuser():\n",
    "    login=waits.until(EC.element_to_be_clickable((By.CSS_SELECTOR, '#ctl00_MenuControl_Label_Login')))\n",
    "    login.click()\n",
    "    getemail= waits.until(EC.element_to_be_clickable((By.CSS_SELECTOR, '#Username')))\n",
    "    getemail.send_keys('homa.abedinzadeh@gmail.com')\n",
    "    time.sleep(random.randint(5,20))\n",
    "    getpassword= waits.until(EC.element_to_be_clickable((By.CSS_SELECTOR, '#Password')))\n",
    "    getpassword.send_keys('Aa@97019701')\n",
    "    time.sleep(random.randint(5,20))\n",
    "    btnlogin=waits.until(EC.element_to_be_clickable((By.CSS_SELECTOR,'body > div.container > div > div:nth-child(2) > div > div > div > form > fieldset > div:nth-child(4) > div > button'))).click()\n",
    "    time.sleep(random.randint(5,20))\n"
   ]
  },
  {
   "cell_type": "markdown",
   "metadata": {},
   "source": [
    "## Get Codes and Country"
   ]
  },
  {
   "cell_type": "code",
   "execution_count": 59,
   "metadata": {},
   "outputs": [
    {
     "ename": "NoSuchWindowException",
     "evalue": "Message: no such window: target window already closed\nfrom unknown error: web view not found\n  (Session info: chrome=128.0.6613.120)\nStacktrace:\n\tGetHandleVerifier [0x00007FF728839412+29090]\n\t(No symbol) [0x00007FF7287AE239]\n\t(No symbol) [0x00007FF72866B1DA]\n\t(No symbol) [0x00007FF72863FAF5]\n\t(No symbol) [0x00007FF7286EE2C7]\n\t(No symbol) [0x00007FF728705EB1]\n\t(No symbol) [0x00007FF7286E6493]\n\t(No symbol) [0x00007FF7286B09D1]\n\t(No symbol) [0x00007FF7286B1B31]\n\tGetHandleVerifier [0x00007FF728B5871D+3302573]\n\tGetHandleVerifier [0x00007FF728BA4243+3612627]\n\tGetHandleVerifier [0x00007FF728B9A417+3572135]\n\tGetHandleVerifier [0x00007FF7288F5EB6+801862]\n\t(No symbol) [0x00007FF7287B945F]\n\t(No symbol) [0x00007FF7287B4FB4]\n\t(No symbol) [0x00007FF7287B5140]\n\t(No symbol) [0x00007FF7287A461F]\n\tBaseThreadInitThunk [0x00007FFE6135257D+29]\n\tRtlUserThreadStart [0x00007FFE62A6AF28+40]\n",
     "output_type": "error",
     "traceback": [
      "\u001b[1;31m---------------------------------------------------------------------------\u001b[0m",
      "\u001b[1;31mNoSuchWindowException\u001b[0m                     Traceback (most recent call last)",
      "Cell \u001b[1;32mIn[59], line 78\u001b[0m\n\u001b[0;32m     77\u001b[0m waits\u001b[38;5;241m.\u001b[39muntil(EC\u001b[38;5;241m.\u001b[39melement_to_be_clickable((By\u001b[38;5;241m.\u001b[39mID, \u001b[38;5;124m'\u001b[39m\u001b[38;5;124mctl00_MenuControl_Label_Menu_Home\u001b[39m\u001b[38;5;124m'\u001b[39m)))\u001b[38;5;241m.\u001b[39mclick()\n\u001b[1;32m---> 78\u001b[0m waits\u001b[38;5;241m.\u001b[39muntil(EC\u001b[38;5;241m.\u001b[39melement_to_be_clickable((By\u001b[38;5;241m.\u001b[39mCSS_SELECTOR, \u001b[38;5;124m'\u001b[39m\u001b[38;5;124m#ctl00_PageContent_Image_deleteProduct\u001b[39m\u001b[38;5;124m'\u001b[39m)))\u001b[38;5;241m.\u001b[39mclick()\n\u001b[0;32m     79\u001b[0m waits\u001b[38;5;241m.\u001b[39muntil(EC\u001b[38;5;241m.\u001b[39melement_to_be_clickable((By\u001b[38;5;241m.\u001b[39mCSS_SELECTOR, \u001b[38;5;124m'\u001b[39m\u001b[38;5;124m#ctl00_PageContent_Image_DeleteCountry\u001b[39m\u001b[38;5;124m'\u001b[39m)))\u001b[38;5;241m.\u001b[39mclick()\n",
      "File \u001b[1;32m~\\AppData\\Roaming\\Python\\Python311\\site-packages\\selenium\\webdriver\\support\\wait.py:96\u001b[0m, in \u001b[0;36mWebDriverWait.until\u001b[1;34m(self, method, message)\u001b[0m\n\u001b[0;32m     95\u001b[0m \u001b[38;5;28;01mtry\u001b[39;00m:\n\u001b[1;32m---> 96\u001b[0m     value \u001b[38;5;241m=\u001b[39m method(\u001b[38;5;28mself\u001b[39m\u001b[38;5;241m.\u001b[39m_driver)\n\u001b[0;32m     97\u001b[0m     \u001b[38;5;28;01mif\u001b[39;00m value:\n",
      "File \u001b[1;32m~\\AppData\\Roaming\\Python\\Python311\\site-packages\\selenium\\webdriver\\support\\expected_conditions.py:363\u001b[0m, in \u001b[0;36melement_to_be_clickable.<locals>._predicate\u001b[1;34m(driver)\u001b[0m\n\u001b[0;32m    362\u001b[0m \u001b[38;5;28;01mif\u001b[39;00m \u001b[38;5;129;01mnot\u001b[39;00m \u001b[38;5;28misinstance\u001b[39m(target, WebElement):  \u001b[38;5;66;03m# if given locator instead of WebElement\u001b[39;00m\n\u001b[1;32m--> 363\u001b[0m     target \u001b[38;5;241m=\u001b[39m driver\u001b[38;5;241m.\u001b[39mfind_element(\u001b[38;5;241m*\u001b[39mtarget)  \u001b[38;5;66;03m# grab element at locator\u001b[39;00m\n\u001b[0;32m    364\u001b[0m element \u001b[38;5;241m=\u001b[39m visibility_of(target)(driver)\n",
      "File \u001b[1;32m~\\AppData\\Roaming\\Python\\Python311\\site-packages\\selenium\\webdriver\\remote\\webdriver.py:741\u001b[0m, in \u001b[0;36mWebDriver.find_element\u001b[1;34m(self, by, value)\u001b[0m\n\u001b[0;32m    739\u001b[0m     value \u001b[38;5;241m=\u001b[39m \u001b[38;5;124mf\u001b[39m\u001b[38;5;124m'\u001b[39m\u001b[38;5;124m[name=\u001b[39m\u001b[38;5;124m\"\u001b[39m\u001b[38;5;132;01m{\u001b[39;00mvalue\u001b[38;5;132;01m}\u001b[39;00m\u001b[38;5;124m\"\u001b[39m\u001b[38;5;124m]\u001b[39m\u001b[38;5;124m'\u001b[39m\n\u001b[1;32m--> 741\u001b[0m \u001b[38;5;28;01mreturn\u001b[39;00m \u001b[38;5;28mself\u001b[39m\u001b[38;5;241m.\u001b[39mexecute(Command\u001b[38;5;241m.\u001b[39mFIND_ELEMENT, {\u001b[38;5;124m\"\u001b[39m\u001b[38;5;124musing\u001b[39m\u001b[38;5;124m\"\u001b[39m: by, \u001b[38;5;124m\"\u001b[39m\u001b[38;5;124mvalue\u001b[39m\u001b[38;5;124m\"\u001b[39m: value})[\u001b[38;5;124m\"\u001b[39m\u001b[38;5;124mvalue\u001b[39m\u001b[38;5;124m\"\u001b[39m]\n",
      "File \u001b[1;32m~\\AppData\\Roaming\\Python\\Python311\\site-packages\\selenium\\webdriver\\remote\\webdriver.py:347\u001b[0m, in \u001b[0;36mWebDriver.execute\u001b[1;34m(self, driver_command, params)\u001b[0m\n\u001b[0;32m    346\u001b[0m \u001b[38;5;28;01mif\u001b[39;00m response:\n\u001b[1;32m--> 347\u001b[0m     \u001b[38;5;28mself\u001b[39m\u001b[38;5;241m.\u001b[39merror_handler\u001b[38;5;241m.\u001b[39mcheck_response(response)\n\u001b[0;32m    348\u001b[0m     response[\u001b[38;5;124m\"\u001b[39m\u001b[38;5;124mvalue\u001b[39m\u001b[38;5;124m\"\u001b[39m] \u001b[38;5;241m=\u001b[39m \u001b[38;5;28mself\u001b[39m\u001b[38;5;241m.\u001b[39m_unwrap_value(response\u001b[38;5;241m.\u001b[39mget(\u001b[38;5;124m\"\u001b[39m\u001b[38;5;124mvalue\u001b[39m\u001b[38;5;124m\"\u001b[39m, \u001b[38;5;28;01mNone\u001b[39;00m))\n",
      "File \u001b[1;32m~\\AppData\\Roaming\\Python\\Python311\\site-packages\\selenium\\webdriver\\remote\\errorhandler.py:229\u001b[0m, in \u001b[0;36mErrorHandler.check_response\u001b[1;34m(self, response)\u001b[0m\n\u001b[0;32m    228\u001b[0m     \u001b[38;5;28;01mraise\u001b[39;00m exception_class(message, screen, stacktrace, alert_text)  \u001b[38;5;66;03m# type: ignore[call-arg]  # mypy is not smart enough here\u001b[39;00m\n\u001b[1;32m--> 229\u001b[0m \u001b[38;5;28;01mraise\u001b[39;00m exception_class(message, screen, stacktrace)\n",
      "\u001b[1;31mNoSuchWindowException\u001b[0m: Message: no such window: target window already closed\nfrom unknown error: web view not found\n  (Session info: chrome=128.0.6613.120)\nStacktrace:\n\tGetHandleVerifier [0x00007FF728839412+29090]\n\t(No symbol) [0x00007FF7287AE239]\n\t(No symbol) [0x00007FF72866B1DA]\n\t(No symbol) [0x00007FF72863FAF5]\n\t(No symbol) [0x00007FF7286EE2C7]\n\t(No symbol) [0x00007FF728705EB1]\n\t(No symbol) [0x00007FF7286E6493]\n\t(No symbol) [0x00007FF7286B09D1]\n\t(No symbol) [0x00007FF7286B1B31]\n\tGetHandleVerifier [0x00007FF728B5871D+3302573]\n\tGetHandleVerifier [0x00007FF728BA4243+3612627]\n\tGetHandleVerifier [0x00007FF728B9A417+3572135]\n\tGetHandleVerifier [0x00007FF7288F5EB6+801862]\n\t(No symbol) [0x00007FF7287B945F]\n\t(No symbol) [0x00007FF7287B4FB4]\n\t(No symbol) [0x00007FF7287B5140]\n\t(No symbol) [0x00007FF7287A461F]\n\tBaseThreadInitThunk [0x00007FFE6135257D+29]\n\tRtlUserThreadStart [0x00007FFE62A6AF28+40]\n",
      "\nDuring handling of the above exception, another exception occurred:\n",
      "\u001b[1;31mNoSuchWindowException\u001b[0m                     Traceback (most recent call last)",
      "Cell \u001b[1;32mIn[59], line 83\u001b[0m\n\u001b[0;32m     81\u001b[0m         \u001b[38;5;66;03m#time.sleep(random.randint(5,20))\u001b[39;00m\n\u001b[0;32m     82\u001b[0m \u001b[38;5;28;01mexcept\u001b[39;00m:\n\u001b[1;32m---> 83\u001b[0m     waits\u001b[38;5;241m.\u001b[39muntil(EC\u001b[38;5;241m.\u001b[39melement_to_be_clickable((By\u001b[38;5;241m.\u001b[39mCSS_SELECTOR, \u001b[38;5;124m'\u001b[39m\u001b[38;5;124m#ctl00_PageContent_Image_deleteProduct\u001b[39m\u001b[38;5;124m'\u001b[39m)))\u001b[38;5;241m.\u001b[39mclick()\n\u001b[0;32m     84\u001b[0m     waits\u001b[38;5;241m.\u001b[39muntil(EC\u001b[38;5;241m.\u001b[39melement_to_be_clickable((By\u001b[38;5;241m.\u001b[39mCSS_SELECTOR, \u001b[38;5;124m'\u001b[39m\u001b[38;5;124m#ctl00_PageContent_Image_DeleteCountry\u001b[39m\u001b[38;5;124m'\u001b[39m)))\u001b[38;5;241m.\u001b[39mclick()\n\u001b[0;32m     85\u001b[0m     \u001b[38;5;66;03m#time.sleep(random.randint(5,20))\u001b[39;00m\n",
      "File \u001b[1;32m~\\AppData\\Roaming\\Python\\Python311\\site-packages\\selenium\\webdriver\\support\\wait.py:96\u001b[0m, in \u001b[0;36mWebDriverWait.until\u001b[1;34m(self, method, message)\u001b[0m\n\u001b[0;32m     94\u001b[0m \u001b[38;5;28;01mwhile\u001b[39;00m \u001b[38;5;28;01mTrue\u001b[39;00m:\n\u001b[0;32m     95\u001b[0m     \u001b[38;5;28;01mtry\u001b[39;00m:\n\u001b[1;32m---> 96\u001b[0m         value \u001b[38;5;241m=\u001b[39m method(\u001b[38;5;28mself\u001b[39m\u001b[38;5;241m.\u001b[39m_driver)\n\u001b[0;32m     97\u001b[0m         \u001b[38;5;28;01mif\u001b[39;00m value:\n\u001b[0;32m     98\u001b[0m             \u001b[38;5;28;01mreturn\u001b[39;00m value\n",
      "File \u001b[1;32m~\\AppData\\Roaming\\Python\\Python311\\site-packages\\selenium\\webdriver\\support\\expected_conditions.py:363\u001b[0m, in \u001b[0;36melement_to_be_clickable.<locals>._predicate\u001b[1;34m(driver)\u001b[0m\n\u001b[0;32m    361\u001b[0m target \u001b[38;5;241m=\u001b[39m mark\n\u001b[0;32m    362\u001b[0m \u001b[38;5;28;01mif\u001b[39;00m \u001b[38;5;129;01mnot\u001b[39;00m \u001b[38;5;28misinstance\u001b[39m(target, WebElement):  \u001b[38;5;66;03m# if given locator instead of WebElement\u001b[39;00m\n\u001b[1;32m--> 363\u001b[0m     target \u001b[38;5;241m=\u001b[39m driver\u001b[38;5;241m.\u001b[39mfind_element(\u001b[38;5;241m*\u001b[39mtarget)  \u001b[38;5;66;03m# grab element at locator\u001b[39;00m\n\u001b[0;32m    364\u001b[0m element \u001b[38;5;241m=\u001b[39m visibility_of(target)(driver)\n\u001b[0;32m    365\u001b[0m \u001b[38;5;28;01mif\u001b[39;00m element \u001b[38;5;129;01mand\u001b[39;00m element\u001b[38;5;241m.\u001b[39mis_enabled():\n",
      "File \u001b[1;32m~\\AppData\\Roaming\\Python\\Python311\\site-packages\\selenium\\webdriver\\remote\\webdriver.py:741\u001b[0m, in \u001b[0;36mWebDriver.find_element\u001b[1;34m(self, by, value)\u001b[0m\n\u001b[0;32m    738\u001b[0m     by \u001b[38;5;241m=\u001b[39m By\u001b[38;5;241m.\u001b[39mCSS_SELECTOR\n\u001b[0;32m    739\u001b[0m     value \u001b[38;5;241m=\u001b[39m \u001b[38;5;124mf\u001b[39m\u001b[38;5;124m'\u001b[39m\u001b[38;5;124m[name=\u001b[39m\u001b[38;5;124m\"\u001b[39m\u001b[38;5;132;01m{\u001b[39;00mvalue\u001b[38;5;132;01m}\u001b[39;00m\u001b[38;5;124m\"\u001b[39m\u001b[38;5;124m]\u001b[39m\u001b[38;5;124m'\u001b[39m\n\u001b[1;32m--> 741\u001b[0m \u001b[38;5;28;01mreturn\u001b[39;00m \u001b[38;5;28mself\u001b[39m\u001b[38;5;241m.\u001b[39mexecute(Command\u001b[38;5;241m.\u001b[39mFIND_ELEMENT, {\u001b[38;5;124m\"\u001b[39m\u001b[38;5;124musing\u001b[39m\u001b[38;5;124m\"\u001b[39m: by, \u001b[38;5;124m\"\u001b[39m\u001b[38;5;124mvalue\u001b[39m\u001b[38;5;124m\"\u001b[39m: value})[\u001b[38;5;124m\"\u001b[39m\u001b[38;5;124mvalue\u001b[39m\u001b[38;5;124m\"\u001b[39m]\n",
      "File \u001b[1;32m~\\AppData\\Roaming\\Python\\Python311\\site-packages\\selenium\\webdriver\\remote\\webdriver.py:347\u001b[0m, in \u001b[0;36mWebDriver.execute\u001b[1;34m(self, driver_command, params)\u001b[0m\n\u001b[0;32m    345\u001b[0m response \u001b[38;5;241m=\u001b[39m \u001b[38;5;28mself\u001b[39m\u001b[38;5;241m.\u001b[39mcommand_executor\u001b[38;5;241m.\u001b[39mexecute(driver_command, params)\n\u001b[0;32m    346\u001b[0m \u001b[38;5;28;01mif\u001b[39;00m response:\n\u001b[1;32m--> 347\u001b[0m     \u001b[38;5;28mself\u001b[39m\u001b[38;5;241m.\u001b[39merror_handler\u001b[38;5;241m.\u001b[39mcheck_response(response)\n\u001b[0;32m    348\u001b[0m     response[\u001b[38;5;124m\"\u001b[39m\u001b[38;5;124mvalue\u001b[39m\u001b[38;5;124m\"\u001b[39m] \u001b[38;5;241m=\u001b[39m \u001b[38;5;28mself\u001b[39m\u001b[38;5;241m.\u001b[39m_unwrap_value(response\u001b[38;5;241m.\u001b[39mget(\u001b[38;5;124m\"\u001b[39m\u001b[38;5;124mvalue\u001b[39m\u001b[38;5;124m\"\u001b[39m, \u001b[38;5;28;01mNone\u001b[39;00m))\n\u001b[0;32m    349\u001b[0m     \u001b[38;5;28;01mreturn\u001b[39;00m response\n",
      "File \u001b[1;32m~\\AppData\\Roaming\\Python\\Python311\\site-packages\\selenium\\webdriver\\remote\\errorhandler.py:229\u001b[0m, in \u001b[0;36mErrorHandler.check_response\u001b[1;34m(self, response)\u001b[0m\n\u001b[0;32m    227\u001b[0m         alert_text \u001b[38;5;241m=\u001b[39m value[\u001b[38;5;124m\"\u001b[39m\u001b[38;5;124malert\u001b[39m\u001b[38;5;124m\"\u001b[39m]\u001b[38;5;241m.\u001b[39mget(\u001b[38;5;124m\"\u001b[39m\u001b[38;5;124mtext\u001b[39m\u001b[38;5;124m\"\u001b[39m)\n\u001b[0;32m    228\u001b[0m     \u001b[38;5;28;01mraise\u001b[39;00m exception_class(message, screen, stacktrace, alert_text)  \u001b[38;5;66;03m# type: ignore[call-arg]  # mypy is not smart enough here\u001b[39;00m\n\u001b[1;32m--> 229\u001b[0m \u001b[38;5;28;01mraise\u001b[39;00m exception_class(message, screen, stacktrace)\n",
      "\u001b[1;31mNoSuchWindowException\u001b[0m: Message: no such window: target window already closed\nfrom unknown error: web view not found\n  (Session info: chrome=128.0.6613.120)\nStacktrace:\n\tGetHandleVerifier [0x00007FF728839412+29090]\n\t(No symbol) [0x00007FF7287AE239]\n\t(No symbol) [0x00007FF72866B1DA]\n\t(No symbol) [0x00007FF72863FAF5]\n\t(No symbol) [0x00007FF7286EE2C7]\n\t(No symbol) [0x00007FF728705EB1]\n\t(No symbol) [0x00007FF7286E6493]\n\t(No symbol) [0x00007FF7286B09D1]\n\t(No symbol) [0x00007FF7286B1B31]\n\tGetHandleVerifier [0x00007FF728B5871D+3302573]\n\tGetHandleVerifier [0x00007FF728BA4243+3612627]\n\tGetHandleVerifier [0x00007FF728B9A417+3572135]\n\tGetHandleVerifier [0x00007FF7288F5EB6+801862]\n\t(No symbol) [0x00007FF7287B945F]\n\t(No symbol) [0x00007FF7287B4FB4]\n\t(No symbol) [0x00007FF7287B5140]\n\t(No symbol) [0x00007FF7287A461F]\n\tBaseThreadInitThunk [0x00007FFE6135257D+29]\n\tRtlUserThreadStart [0x00007FFE62A6AF28+40]\n"
     ]
    }
   ],
   "source": [
    "\n",
    "df=pd.DataFrame()\n",
    "temp=pd.DataFrame()\n",
    "i=1\n",
    "j=1\n",
    "for i in range (len(Product_Code)):\n",
    "    for j in range (len (all_countries)):\n",
    "        try:\n",
    "            logintext=driver.find_element(By.CSS_SELECTOR ,(\"#ctl00_MenuControl_Label_Login\"))\n",
    "            if logintext.text=='Login':\n",
    "                 loginuser()\n",
    "            else:\n",
    "                    \n",
    "    ## Select Product \n",
    "                inputproduct= waits.until(EC.element_to_be_clickable ((By.CSS_SELECTOR, '#ctl00_PageContent_RadComboBox_Product_Input')))\n",
    "                inputproduct.send_keys(Product_Code['ProductCode'].iloc[i])\n",
    "                \n",
    "                clkinput= waits.until(EC.element_to_be_clickable((By.CSS_SELECTOR,  '#ctl00_PageContent_RadComboBox_Product_c0'))).click()\n",
    "                #time.sleep(random.randint(5,20))                                       #ctl00_PageContent_RadComboBox_Country_c1\n",
    "\n",
    "        ## select Country\n",
    "                inputContry= waits.until(EC.element_to_be_clickable((By.CSS_SELECTOR,  '#ctl00_PageContent_RadComboBox_Country_Input')))\n",
    "                inputContry.send_keys(all_countries['Country'].iloc[j])                 \n",
    "                \n",
    "                clkinput2= waits.until(EC.element_to_be_clickable((By.CSS_SELECTOR,  '#ctl00_PageContent_RadComboBox_Country_c0'))).click()\n",
    "                #time.sleep(random.randint(5,20))\n",
    "                btnIndicator = driver.find_element(By.NAME ,(\"ctl00$PageContent$Button_TradeIndicators\"))\n",
    "                if btnIndicator.is_enabled():\n",
    "                    \n",
    "                    btn=waits.until(EC.element_to_be_clickable((By.CSS_SELECTOR, '#ctl00_PageContent_Button_TradeIndicators'))).click()\n",
    "        ##300 Pages\n",
    "                    incshow=waits.until(EC.element_to_be_clickable((By.XPATH , \"//select[@id='ctl00_PageContent_GridViewPanelControl_DropDownList_PageSize']\")))\n",
    "                    drop=Select(incshow)\n",
    "                    drop.select_by_value('300')\n",
    "                    #time.sleep(random.randint(5,20))\n",
    "        ## Get Table\n",
    "                    all_tables = pd.read_html(driver.page_source, attrs={'id': 'ctl00_PageContent_MyGridView1'})\n",
    "                    #time.sleep(random.randint(5,20))\n",
    "                    temp = all_tables[0]\n",
    "                    if len(temp)!=1:\n",
    "                                    \n",
    "                \n",
    "        ## delete Extra Row And Column \n",
    "                        temp=temp.iloc[1: , 1: ]\n",
    "                        temp=temp.iloc[ : , :-4]\n",
    "                        temp.head(10)\n",
    "\n",
    "        ## Use first Row as Header\n",
    "                        new_header = temp.iloc[0] \n",
    "                        temp = temp[1:] \n",
    "                        temp.columns = new_header\n",
    "\n",
    "        ## insert Country and  productcode in column \n",
    "                        temp['Importer']=all_countries['Country'].iloc[j]\n",
    "                        temp['productcode']= Product_Code['ProductCode'].iloc[i]\n",
    "                        temp.drop (temp[temp['Exporters']=='Total'].index, inplace=True)\n",
    "        ## Change Column Name\n",
    "                        average= temp.columns[15]\n",
    "                        sharein= temp.columns[3]\n",
    "                        temp.rename(columns={average:'Average tariff%',sharein:'ShareinCounryImports'}  ,inplace=True)\n",
    "\n",
    "        ## Temp append To df\n",
    "                        df=pd.concat([df,temp], axis=0)\n",
    "                        temp=pd.DataFrame()\n",
    "                    \n",
    "                    else:\n",
    "                        waits.until(EC.element_to_be_clickable((By.CSS_SELECTOR, '#ctl00_MenuControl_Label_Menu_Home'))).click()\n",
    "                        waits.until(EC.element_to_be_clickable((By.CSS_SELECTOR, '#ctl00_PageContent_Image_deleteProduct'))).click()\n",
    "                        waits.until(EC.element_to_be_clickable((By.CSS_SELECTOR, '#ctl00_PageContent_Image_DeleteCountry'))).click()   \n",
    "                    \n",
    "                                    \n",
    "\n",
    "                else:\n",
    "                        waits.until(EC.element_to_be_clickable((By.CSS_SELECTOR, '#ctl00_PageContent_Image_deleteProduct'))).click()\n",
    "                        waits.until(EC.element_to_be_clickable((By.CSS_SELECTOR, '#ctl00_PageContent_Image_DeleteCountry'))).click()\n",
    "\n",
    "            \n",
    "                waits.until(EC.element_to_be_clickable((By.ID, 'ctl00_MenuControl_Label_Menu_Home'))).click()\n",
    "                waits.until(EC.element_to_be_clickable((By.CSS_SELECTOR, '#ctl00_PageContent_Image_deleteProduct'))).click()\n",
    "                waits.until(EC.element_to_be_clickable((By.CSS_SELECTOR, '#ctl00_PageContent_Image_DeleteCountry'))).click()\n",
    "                j+=1\n",
    "                #time.sleep(random.randint(5,20))\n",
    "        except:\n",
    "            waits.until(EC.element_to_be_clickable((By.CSS_SELECTOR, '#ctl00_PageContent_Image_deleteProduct'))).click()\n",
    "            waits.until(EC.element_to_be_clickable((By.CSS_SELECTOR, '#ctl00_PageContent_Image_DeleteCountry'))).click()\n",
    "            #time.sleep(random.randint(5,20))\n",
    "            j-=1\n",
    "\n",
    "    i+=1\n",
    "        "
   ]
  },
  {
   "cell_type": "code",
   "execution_count": 269,
   "metadata": {
    "scrolled": true
   },
   "outputs": [
    {
     "ename": "StaleElementReferenceException",
     "evalue": "Message: stale element reference: stale element not found\n  (Session info: chrome=128.0.6613.120); For documentation on this error, please visit: https://www.selenium.dev/documentation/webdriver/troubleshooting/errors#stale-element-reference-exception\nStacktrace:\n\tGetHandleVerifier [0x00007FF728839412+29090]\n\t(No symbol) [0x00007FF7287AE239]\n\t(No symbol) [0x00007FF72866B1DA]\n\t(No symbol) [0x00007FF72867DBE9]\n\t(No symbol) [0x00007FF728672954]\n\t(No symbol) [0x00007FF728670787]\n\t(No symbol) [0x00007FF728674081]\n\t(No symbol) [0x00007FF728674120]\n\t(No symbol) [0x00007FF7286BEB5C]\n\t(No symbol) [0x00007FF7286BF23C]\n\t(No symbol) [0x00007FF7286B2B9C]\n\t(No symbol) [0x00007FF7286E672F]\n\t(No symbol) [0x00007FF7286B26C6]\n\t(No symbol) [0x00007FF7286E6900]\n\t(No symbol) [0x00007FF7287065A2]\n\t(No symbol) [0x00007FF7286E6493]\n\t(No symbol) [0x00007FF7286B09D1]\n\t(No symbol) [0x00007FF7286B1B31]\n\tGetHandleVerifier [0x00007FF728B5871D+3302573]\n\tGetHandleVerifier [0x00007FF728BA4243+3612627]\n\tGetHandleVerifier [0x00007FF728B9A417+3572135]\n\tGetHandleVerifier [0x00007FF7288F5EB6+801862]\n\t(No symbol) [0x00007FF7287B945F]\n\t(No symbol) [0x00007FF7287B4FB4]\n\t(No symbol) [0x00007FF7287B5140]\n\t(No symbol) [0x00007FF7287A461F]\n\tBaseThreadInitThunk [0x00007FFE6135257D+29]\n\tRtlUserThreadStart [0x00007FFE62A6AF28+40]\n",
     "output_type": "error",
     "traceback": [
      "\u001b[1;31m---------------------------------------------------------------------------\u001b[0m",
      "\u001b[1;31mStaleElementReferenceException\u001b[0m            Traceback (most recent call last)",
      "Cell \u001b[1;32mIn[269], line 13\u001b[0m\n\u001b[0;32m     11\u001b[0m    time\u001b[38;5;241m.\u001b[39msleep(\u001b[38;5;241m5\u001b[39m)\n\u001b[0;32m     12\u001b[0m \u001b[38;5;28;01melse\u001b[39;00m:\n\u001b[1;32m---> 13\u001b[0m    drop\u001b[38;5;241m.\u001b[39mselect_by_value(\u001b[38;5;28mstr\u001b[39m(i))\n\u001b[0;32m     14\u001b[0m    time\u001b[38;5;241m.\u001b[39msleep(\u001b[38;5;241m5\u001b[39m)\n",
      "File \u001b[1;32m~\\AppData\\Roaming\\Python\\Python311\\site-packages\\selenium\\webdriver\\support\\select.py:76\u001b[0m, in \u001b[0;36mSelect.select_by_value\u001b[1;34m(self, value)\u001b[0m\n\u001b[0;32m     65\u001b[0m \u001b[38;5;250m\u001b[39m\u001b[38;5;124;03m\"\"\"Select all options that have a value matching the argument. That is,\u001b[39;00m\n\u001b[0;32m     66\u001b[0m \u001b[38;5;124;03mwhen given \"foo\" this would select an option like:\u001b[39;00m\n\u001b[0;32m     67\u001b[0m \n\u001b[1;32m   (...)\u001b[0m\n\u001b[0;32m     73\u001b[0m \u001b[38;5;124;03mthrows NoSuchElementException If there is no option with specified value in SELECT\u001b[39;00m\n\u001b[0;32m     74\u001b[0m \u001b[38;5;124;03m\"\"\"\u001b[39;00m\n\u001b[0;32m     75\u001b[0m css \u001b[38;5;241m=\u001b[39m \u001b[38;5;124mf\u001b[39m\u001b[38;5;124m\"\u001b[39m\u001b[38;5;124moption[value =\u001b[39m\u001b[38;5;132;01m{\u001b[39;00m\u001b[38;5;28mself\u001b[39m\u001b[38;5;241m.\u001b[39m_escape_string(value)\u001b[38;5;132;01m}\u001b[39;00m\u001b[38;5;124m]\u001b[39m\u001b[38;5;124m\"\u001b[39m\n\u001b[1;32m---> 76\u001b[0m opts \u001b[38;5;241m=\u001b[39m \u001b[38;5;28mself\u001b[39m\u001b[38;5;241m.\u001b[39m_el\u001b[38;5;241m.\u001b[39mfind_elements(By\u001b[38;5;241m.\u001b[39mCSS_SELECTOR, css)\n\u001b[0;32m     77\u001b[0m matched \u001b[38;5;241m=\u001b[39m \u001b[38;5;28;01mFalse\u001b[39;00m\n\u001b[0;32m     78\u001b[0m \u001b[38;5;28;01mfor\u001b[39;00m opt \u001b[38;5;129;01min\u001b[39;00m opts:\n",
      "File \u001b[1;32m~\\AppData\\Roaming\\Python\\Python311\\site-packages\\selenium\\webdriver\\remote\\webelement.py:439\u001b[0m, in \u001b[0;36mWebElement.find_elements\u001b[1;34m(self, by, value)\u001b[0m\n\u001b[0;32m    436\u001b[0m     by \u001b[38;5;241m=\u001b[39m By\u001b[38;5;241m.\u001b[39mCSS_SELECTOR\n\u001b[0;32m    437\u001b[0m     value \u001b[38;5;241m=\u001b[39m \u001b[38;5;124mf\u001b[39m\u001b[38;5;124m'\u001b[39m\u001b[38;5;124m[name=\u001b[39m\u001b[38;5;124m\"\u001b[39m\u001b[38;5;132;01m{\u001b[39;00mvalue\u001b[38;5;132;01m}\u001b[39;00m\u001b[38;5;124m\"\u001b[39m\u001b[38;5;124m]\u001b[39m\u001b[38;5;124m'\u001b[39m\n\u001b[1;32m--> 439\u001b[0m \u001b[38;5;28;01mreturn\u001b[39;00m \u001b[38;5;28mself\u001b[39m\u001b[38;5;241m.\u001b[39m_execute(Command\u001b[38;5;241m.\u001b[39mFIND_CHILD_ELEMENTS, {\u001b[38;5;124m\"\u001b[39m\u001b[38;5;124musing\u001b[39m\u001b[38;5;124m\"\u001b[39m: by, \u001b[38;5;124m\"\u001b[39m\u001b[38;5;124mvalue\u001b[39m\u001b[38;5;124m\"\u001b[39m: value})[\u001b[38;5;124m\"\u001b[39m\u001b[38;5;124mvalue\u001b[39m\u001b[38;5;124m\"\u001b[39m]\n",
      "File \u001b[1;32m~\\AppData\\Roaming\\Python\\Python311\\site-packages\\selenium\\webdriver\\remote\\webelement.py:395\u001b[0m, in \u001b[0;36mWebElement._execute\u001b[1;34m(self, command, params)\u001b[0m\n\u001b[0;32m    393\u001b[0m     params \u001b[38;5;241m=\u001b[39m {}\n\u001b[0;32m    394\u001b[0m params[\u001b[38;5;124m\"\u001b[39m\u001b[38;5;124mid\u001b[39m\u001b[38;5;124m\"\u001b[39m] \u001b[38;5;241m=\u001b[39m \u001b[38;5;28mself\u001b[39m\u001b[38;5;241m.\u001b[39m_id\n\u001b[1;32m--> 395\u001b[0m \u001b[38;5;28;01mreturn\u001b[39;00m \u001b[38;5;28mself\u001b[39m\u001b[38;5;241m.\u001b[39m_parent\u001b[38;5;241m.\u001b[39mexecute(command, params)\n",
      "File \u001b[1;32m~\\AppData\\Roaming\\Python\\Python311\\site-packages\\selenium\\webdriver\\remote\\webdriver.py:347\u001b[0m, in \u001b[0;36mWebDriver.execute\u001b[1;34m(self, driver_command, params)\u001b[0m\n\u001b[0;32m    345\u001b[0m response \u001b[38;5;241m=\u001b[39m \u001b[38;5;28mself\u001b[39m\u001b[38;5;241m.\u001b[39mcommand_executor\u001b[38;5;241m.\u001b[39mexecute(driver_command, params)\n\u001b[0;32m    346\u001b[0m \u001b[38;5;28;01mif\u001b[39;00m response:\n\u001b[1;32m--> 347\u001b[0m     \u001b[38;5;28mself\u001b[39m\u001b[38;5;241m.\u001b[39merror_handler\u001b[38;5;241m.\u001b[39mcheck_response(response)\n\u001b[0;32m    348\u001b[0m     response[\u001b[38;5;124m\"\u001b[39m\u001b[38;5;124mvalue\u001b[39m\u001b[38;5;124m\"\u001b[39m] \u001b[38;5;241m=\u001b[39m \u001b[38;5;28mself\u001b[39m\u001b[38;5;241m.\u001b[39m_unwrap_value(response\u001b[38;5;241m.\u001b[39mget(\u001b[38;5;124m\"\u001b[39m\u001b[38;5;124mvalue\u001b[39m\u001b[38;5;124m\"\u001b[39m, \u001b[38;5;28;01mNone\u001b[39;00m))\n\u001b[0;32m    349\u001b[0m     \u001b[38;5;28;01mreturn\u001b[39;00m response\n",
      "File \u001b[1;32m~\\AppData\\Roaming\\Python\\Python311\\site-packages\\selenium\\webdriver\\remote\\errorhandler.py:229\u001b[0m, in \u001b[0;36mErrorHandler.check_response\u001b[1;34m(self, response)\u001b[0m\n\u001b[0;32m    227\u001b[0m         alert_text \u001b[38;5;241m=\u001b[39m value[\u001b[38;5;124m\"\u001b[39m\u001b[38;5;124malert\u001b[39m\u001b[38;5;124m\"\u001b[39m]\u001b[38;5;241m.\u001b[39mget(\u001b[38;5;124m\"\u001b[39m\u001b[38;5;124mtext\u001b[39m\u001b[38;5;124m\"\u001b[39m)\n\u001b[0;32m    228\u001b[0m     \u001b[38;5;28;01mraise\u001b[39;00m exception_class(message, screen, stacktrace, alert_text)  \u001b[38;5;66;03m# type: ignore[call-arg]  # mypy is not smart enough here\u001b[39;00m\n\u001b[1;32m--> 229\u001b[0m \u001b[38;5;28;01mraise\u001b[39;00m exception_class(message, screen, stacktrace)\n",
      "\u001b[1;31mStaleElementReferenceException\u001b[0m: Message: stale element reference: stale element not found\n  (Session info: chrome=128.0.6613.120); For documentation on this error, please visit: https://www.selenium.dev/documentation/webdriver/troubleshooting/errors#stale-element-reference-exception\nStacktrace:\n\tGetHandleVerifier [0x00007FF728839412+29090]\n\t(No symbol) [0x00007FF7287AE239]\n\t(No symbol) [0x00007FF72866B1DA]\n\t(No symbol) [0x00007FF72867DBE9]\n\t(No symbol) [0x00007FF728672954]\n\t(No symbol) [0x00007FF728670787]\n\t(No symbol) [0x00007FF728674081]\n\t(No symbol) [0x00007FF728674120]\n\t(No symbol) [0x00007FF7286BEB5C]\n\t(No symbol) [0x00007FF7286BF23C]\n\t(No symbol) [0x00007FF7286B2B9C]\n\t(No symbol) [0x00007FF7286E672F]\n\t(No symbol) [0x00007FF7286B26C6]\n\t(No symbol) [0x00007FF7286E6900]\n\t(No symbol) [0x00007FF7287065A2]\n\t(No symbol) [0x00007FF7286E6493]\n\t(No symbol) [0x00007FF7286B09D1]\n\t(No symbol) [0x00007FF7286B1B31]\n\tGetHandleVerifier [0x00007FF728B5871D+3302573]\n\tGetHandleVerifier [0x00007FF728BA4243+3612627]\n\tGetHandleVerifier [0x00007FF728B9A417+3572135]\n\tGetHandleVerifier [0x00007FF7288F5EB6+801862]\n\t(No symbol) [0x00007FF7287B945F]\n\t(No symbol) [0x00007FF7287B4FB4]\n\t(No symbol) [0x00007FF7287B5140]\n\t(No symbol) [0x00007FF7287A461F]\n\tBaseThreadInitThunk [0x00007FFE6135257D+29]\n\tRtlUserThreadStart [0x00007FFE62A6AF28+40]\n"
     ]
    }
   ],
   "source": [
    "incshow=waits.until(EC.element_to_be_clickable((By.CSS_SELECTOR, \"#ctl00_NavigationControl_DropDownList_Country\")))\n",
    "#'#ctl00_NavigationControl_DropDownList_Country'\n",
    "\n",
    "drop=Select(incshow)\n",
    "\n",
    "for i in e['Code']:\n",
    "   if len(str (i))==2:\n",
    "      drop.select_by_value('0'+str (i))\n",
    "      time.sleep(5)\n",
    "   elif len(str (i))==1:\n",
    "      drop.select_by_value('00'+str (i))\n",
    "      time.sleep(5)\n",
    "   else:\n",
    "      drop.select_by_value(str(i))\n",
    "      time.sleep(5)\n",
    "        \n",
    "\n",
    "    "
   ]
  },
  {
   "cell_type": "code",
   "execution_count": 272,
   "metadata": {
    "collapsed": true
   },
   "outputs": [
    {
     "ename": "StaleElementReferenceException",
     "evalue": "Message: stale element reference: stale element not found\n  (Session info: chrome=128.0.6613.120); For documentation on this error, please visit: https://www.selenium.dev/documentation/webdriver/troubleshooting/errors#stale-element-reference-exception\nStacktrace:\n\tGetHandleVerifier [0x00007FF728839412+29090]\n\t(No symbol) [0x00007FF7287AE239]\n\t(No symbol) [0x00007FF72866B1DA]\n\t(No symbol) [0x00007FF72867DBE9]\n\t(No symbol) [0x00007FF728672954]\n\t(No symbol) [0x00007FF728670787]\n\t(No symbol) [0x00007FF728674081]\n\t(No symbol) [0x00007FF728674120]\n\t(No symbol) [0x00007FF7286BEB5C]\n\t(No symbol) [0x00007FF7286BF23C]\n\t(No symbol) [0x00007FF7286B2B9C]\n\t(No symbol) [0x00007FF7286E672F]\n\t(No symbol) [0x00007FF7286B26C6]\n\t(No symbol) [0x00007FF7286E6900]\n\t(No symbol) [0x00007FF7287065A2]\n\t(No symbol) [0x00007FF7286E6493]\n\t(No symbol) [0x00007FF7286B09D1]\n\t(No symbol) [0x00007FF7286B1B31]\n\tGetHandleVerifier [0x00007FF728B5871D+3302573]\n\tGetHandleVerifier [0x00007FF728BA4243+3612627]\n\tGetHandleVerifier [0x00007FF728B9A417+3572135]\n\tGetHandleVerifier [0x00007FF7288F5EB6+801862]\n\t(No symbol) [0x00007FF7287B945F]\n\t(No symbol) [0x00007FF7287B4FB4]\n\t(No symbol) [0x00007FF7287B5140]\n\t(No symbol) [0x00007FF7287A461F]\n\tBaseThreadInitThunk [0x00007FFE6135257D+29]\n\tRtlUserThreadStart [0x00007FFE62A6AF28+40]\n",
     "output_type": "error",
     "traceback": [
      "\u001b[1;31m---------------------------------------------------------------------------\u001b[0m",
      "\u001b[1;31mStaleElementReferenceException\u001b[0m            Traceback (most recent call last)",
      "Cell \u001b[1;32mIn[272], line 9\u001b[0m\n\u001b[0;32m      7\u001b[0m drop\u001b[38;5;241m.\u001b[39mselect_by_value(\u001b[38;5;124m'\u001b[39m\u001b[38;5;124m008\u001b[39m\u001b[38;5;124m'\u001b[39m)\n\u001b[0;32m      8\u001b[0m time\u001b[38;5;241m.\u001b[39msleep(\u001b[38;5;241m5\u001b[39m)\n\u001b[1;32m----> 9\u001b[0m drop\u001b[38;5;241m.\u001b[39mselect_by_value(\u001b[38;5;124m'\u001b[39m\u001b[38;5;124m012\u001b[39m\u001b[38;5;124m'\u001b[39m)\n\u001b[0;32m     10\u001b[0m time\u001b[38;5;241m.\u001b[39msleep(\u001b[38;5;241m5\u001b[39m)\n\u001b[0;32m     11\u001b[0m drop\u001b[38;5;241m.\u001b[39mselect_by_value(\u001b[38;5;124m'\u001b[39m\u001b[38;5;124m024\u001b[39m\u001b[38;5;124m'\u001b[39m)\n",
      "File \u001b[1;32m~\\AppData\\Roaming\\Python\\Python311\\site-packages\\selenium\\webdriver\\support\\select.py:76\u001b[0m, in \u001b[0;36mSelect.select_by_value\u001b[1;34m(self, value)\u001b[0m\n\u001b[0;32m     65\u001b[0m \u001b[38;5;250m\u001b[39m\u001b[38;5;124;03m\"\"\"Select all options that have a value matching the argument. That is,\u001b[39;00m\n\u001b[0;32m     66\u001b[0m \u001b[38;5;124;03mwhen given \"foo\" this would select an option like:\u001b[39;00m\n\u001b[0;32m     67\u001b[0m \n\u001b[1;32m   (...)\u001b[0m\n\u001b[0;32m     73\u001b[0m \u001b[38;5;124;03mthrows NoSuchElementException If there is no option with specified value in SELECT\u001b[39;00m\n\u001b[0;32m     74\u001b[0m \u001b[38;5;124;03m\"\"\"\u001b[39;00m\n\u001b[0;32m     75\u001b[0m css \u001b[38;5;241m=\u001b[39m \u001b[38;5;124mf\u001b[39m\u001b[38;5;124m\"\u001b[39m\u001b[38;5;124moption[value =\u001b[39m\u001b[38;5;132;01m{\u001b[39;00m\u001b[38;5;28mself\u001b[39m\u001b[38;5;241m.\u001b[39m_escape_string(value)\u001b[38;5;132;01m}\u001b[39;00m\u001b[38;5;124m]\u001b[39m\u001b[38;5;124m\"\u001b[39m\n\u001b[1;32m---> 76\u001b[0m opts \u001b[38;5;241m=\u001b[39m \u001b[38;5;28mself\u001b[39m\u001b[38;5;241m.\u001b[39m_el\u001b[38;5;241m.\u001b[39mfind_elements(By\u001b[38;5;241m.\u001b[39mCSS_SELECTOR, css)\n\u001b[0;32m     77\u001b[0m matched \u001b[38;5;241m=\u001b[39m \u001b[38;5;28;01mFalse\u001b[39;00m\n\u001b[0;32m     78\u001b[0m \u001b[38;5;28;01mfor\u001b[39;00m opt \u001b[38;5;129;01min\u001b[39;00m opts:\n",
      "File \u001b[1;32m~\\AppData\\Roaming\\Python\\Python311\\site-packages\\selenium\\webdriver\\remote\\webelement.py:439\u001b[0m, in \u001b[0;36mWebElement.find_elements\u001b[1;34m(self, by, value)\u001b[0m\n\u001b[0;32m    436\u001b[0m     by \u001b[38;5;241m=\u001b[39m By\u001b[38;5;241m.\u001b[39mCSS_SELECTOR\n\u001b[0;32m    437\u001b[0m     value \u001b[38;5;241m=\u001b[39m \u001b[38;5;124mf\u001b[39m\u001b[38;5;124m'\u001b[39m\u001b[38;5;124m[name=\u001b[39m\u001b[38;5;124m\"\u001b[39m\u001b[38;5;132;01m{\u001b[39;00mvalue\u001b[38;5;132;01m}\u001b[39;00m\u001b[38;5;124m\"\u001b[39m\u001b[38;5;124m]\u001b[39m\u001b[38;5;124m'\u001b[39m\n\u001b[1;32m--> 439\u001b[0m \u001b[38;5;28;01mreturn\u001b[39;00m \u001b[38;5;28mself\u001b[39m\u001b[38;5;241m.\u001b[39m_execute(Command\u001b[38;5;241m.\u001b[39mFIND_CHILD_ELEMENTS, {\u001b[38;5;124m\"\u001b[39m\u001b[38;5;124musing\u001b[39m\u001b[38;5;124m\"\u001b[39m: by, \u001b[38;5;124m\"\u001b[39m\u001b[38;5;124mvalue\u001b[39m\u001b[38;5;124m\"\u001b[39m: value})[\u001b[38;5;124m\"\u001b[39m\u001b[38;5;124mvalue\u001b[39m\u001b[38;5;124m\"\u001b[39m]\n",
      "File \u001b[1;32m~\\AppData\\Roaming\\Python\\Python311\\site-packages\\selenium\\webdriver\\remote\\webelement.py:395\u001b[0m, in \u001b[0;36mWebElement._execute\u001b[1;34m(self, command, params)\u001b[0m\n\u001b[0;32m    393\u001b[0m     params \u001b[38;5;241m=\u001b[39m {}\n\u001b[0;32m    394\u001b[0m params[\u001b[38;5;124m\"\u001b[39m\u001b[38;5;124mid\u001b[39m\u001b[38;5;124m\"\u001b[39m] \u001b[38;5;241m=\u001b[39m \u001b[38;5;28mself\u001b[39m\u001b[38;5;241m.\u001b[39m_id\n\u001b[1;32m--> 395\u001b[0m \u001b[38;5;28;01mreturn\u001b[39;00m \u001b[38;5;28mself\u001b[39m\u001b[38;5;241m.\u001b[39m_parent\u001b[38;5;241m.\u001b[39mexecute(command, params)\n",
      "File \u001b[1;32m~\\AppData\\Roaming\\Python\\Python311\\site-packages\\selenium\\webdriver\\remote\\webdriver.py:347\u001b[0m, in \u001b[0;36mWebDriver.execute\u001b[1;34m(self, driver_command, params)\u001b[0m\n\u001b[0;32m    345\u001b[0m response \u001b[38;5;241m=\u001b[39m \u001b[38;5;28mself\u001b[39m\u001b[38;5;241m.\u001b[39mcommand_executor\u001b[38;5;241m.\u001b[39mexecute(driver_command, params)\n\u001b[0;32m    346\u001b[0m \u001b[38;5;28;01mif\u001b[39;00m response:\n\u001b[1;32m--> 347\u001b[0m     \u001b[38;5;28mself\u001b[39m\u001b[38;5;241m.\u001b[39merror_handler\u001b[38;5;241m.\u001b[39mcheck_response(response)\n\u001b[0;32m    348\u001b[0m     response[\u001b[38;5;124m\"\u001b[39m\u001b[38;5;124mvalue\u001b[39m\u001b[38;5;124m\"\u001b[39m] \u001b[38;5;241m=\u001b[39m \u001b[38;5;28mself\u001b[39m\u001b[38;5;241m.\u001b[39m_unwrap_value(response\u001b[38;5;241m.\u001b[39mget(\u001b[38;5;124m\"\u001b[39m\u001b[38;5;124mvalue\u001b[39m\u001b[38;5;124m\"\u001b[39m, \u001b[38;5;28;01mNone\u001b[39;00m))\n\u001b[0;32m    349\u001b[0m     \u001b[38;5;28;01mreturn\u001b[39;00m response\n",
      "File \u001b[1;32m~\\AppData\\Roaming\\Python\\Python311\\site-packages\\selenium\\webdriver\\remote\\errorhandler.py:229\u001b[0m, in \u001b[0;36mErrorHandler.check_response\u001b[1;34m(self, response)\u001b[0m\n\u001b[0;32m    227\u001b[0m         alert_text \u001b[38;5;241m=\u001b[39m value[\u001b[38;5;124m\"\u001b[39m\u001b[38;5;124malert\u001b[39m\u001b[38;5;124m\"\u001b[39m]\u001b[38;5;241m.\u001b[39mget(\u001b[38;5;124m\"\u001b[39m\u001b[38;5;124mtext\u001b[39m\u001b[38;5;124m\"\u001b[39m)\n\u001b[0;32m    228\u001b[0m     \u001b[38;5;28;01mraise\u001b[39;00m exception_class(message, screen, stacktrace, alert_text)  \u001b[38;5;66;03m# type: ignore[call-arg]  # mypy is not smart enough here\u001b[39;00m\n\u001b[1;32m--> 229\u001b[0m \u001b[38;5;28;01mraise\u001b[39;00m exception_class(message, screen, stacktrace)\n",
      "\u001b[1;31mStaleElementReferenceException\u001b[0m: Message: stale element reference: stale element not found\n  (Session info: chrome=128.0.6613.120); For documentation on this error, please visit: https://www.selenium.dev/documentation/webdriver/troubleshooting/errors#stale-element-reference-exception\nStacktrace:\n\tGetHandleVerifier [0x00007FF728839412+29090]\n\t(No symbol) [0x00007FF7287AE239]\n\t(No symbol) [0x00007FF72866B1DA]\n\t(No symbol) [0x00007FF72867DBE9]\n\t(No symbol) [0x00007FF728672954]\n\t(No symbol) [0x00007FF728670787]\n\t(No symbol) [0x00007FF728674081]\n\t(No symbol) [0x00007FF728674120]\n\t(No symbol) [0x00007FF7286BEB5C]\n\t(No symbol) [0x00007FF7286BF23C]\n\t(No symbol) [0x00007FF7286B2B9C]\n\t(No symbol) [0x00007FF7286E672F]\n\t(No symbol) [0x00007FF7286B26C6]\n\t(No symbol) [0x00007FF7286E6900]\n\t(No symbol) [0x00007FF7287065A2]\n\t(No symbol) [0x00007FF7286E6493]\n\t(No symbol) [0x00007FF7286B09D1]\n\t(No symbol) [0x00007FF7286B1B31]\n\tGetHandleVerifier [0x00007FF728B5871D+3302573]\n\tGetHandleVerifier [0x00007FF728BA4243+3612627]\n\tGetHandleVerifier [0x00007FF728B9A417+3572135]\n\tGetHandleVerifier [0x00007FF7288F5EB6+801862]\n\t(No symbol) [0x00007FF7287B945F]\n\t(No symbol) [0x00007FF7287B4FB4]\n\t(No symbol) [0x00007FF7287B5140]\n\t(No symbol) [0x00007FF7287A461F]\n\tBaseThreadInitThunk [0x00007FFE6135257D+29]\n\tRtlUserThreadStart [0x00007FFE62A6AF28+40]\n"
     ]
    }
   ],
   "source": [
    "incshow=waits.until(EC.element_to_be_clickable((By.CSS_SELECTOR, \"#ctl00_NavigationControl_DropDownList_Country\")))\n",
    "#'#ctl00_NavigationControl_DropDownList_Country'\n",
    "\n",
    "drop=Select(incshow)\n",
    "\n",
    "\n",
    "drop.select_by_value('008')\n",
    "time.sleep(5)\n",
    "drop.select_by_value('012')\n",
    "time.sleep(5)\n",
    "drop.select_by_value('024')\n",
    "time.sleep(5)\n",
    "drop.select_by_value('660')\n",
    "time.sleep(5)\n",
    "drop.select_by_value('032')\n",
    "time.sleep(5)\n"
   ]
  },
  {
   "cell_type": "code",
   "execution_count": 306,
   "metadata": {},
   "outputs": [
    {
     "data": {
      "text/plain": [
       "0                        Algeria\n",
       "1                          Egypt\n",
       "2                          Libya\n",
       "3                        Morocco\n",
       "4                          Sudan\n",
       "                 ...            \n",
       "243                        Samoa\n",
       "244                      Tokelau\n",
       "245                        Tonga\n",
       "246                       Tuvalu\n",
       "247    Wallis and Futuna Islands\n",
       "Name: Country, Length: 248, dtype: object"
      ]
     },
     "execution_count": 306,
     "metadata": {},
     "output_type": "execute_result"
    }
   ],
   "source": [
    "e['Country']"
   ]
  },
  {
   "cell_type": "code",
   "execution_count": 8,
   "metadata": {},
   "outputs": [
    {
     "name": "stdout",
     "output_type": "stream",
     "text": [
      "Algeria\n",
      "Egypt\n"
     ]
    },
    {
     "ename": "StaleElementReferenceException",
     "evalue": "Message: stale element reference: stale element not found\n  (Session info: chrome=128.0.6613.120); For documentation on this error, please visit: https://www.selenium.dev/documentation/webdriver/troubleshooting/errors#stale-element-reference-exception\nStacktrace:\n\tGetHandleVerifier [0x00007FF728839412+29090]\n\t(No symbol) [0x00007FF7287AE239]\n\t(No symbol) [0x00007FF72866B1DA]\n\t(No symbol) [0x00007FF72867DBE9]\n\t(No symbol) [0x00007FF728672954]\n\t(No symbol) [0x00007FF728670787]\n\t(No symbol) [0x00007FF728674081]\n\t(No symbol) [0x00007FF728674120]\n\t(No symbol) [0x00007FF7286BFE52]\n\t(No symbol) [0x00007FF7286BFF12]\n\t(No symbol) [0x00007FF7286B5C2B]\n\t(No symbol) [0x00007FF7286E66EA]\n\t(No symbol) [0x00007FF7286B26C6]\n\t(No symbol) [0x00007FF7286E6900]\n\t(No symbol) [0x00007FF7287065A2]\n\t(No symbol) [0x00007FF7286E6493]\n\t(No symbol) [0x00007FF7286B09D1]\n\t(No symbol) [0x00007FF7286B1B31]\n\tGetHandleVerifier [0x00007FF728B5871D+3302573]\n\tGetHandleVerifier [0x00007FF728BA4243+3612627]\n\tGetHandleVerifier [0x00007FF728B9A417+3572135]\n\tGetHandleVerifier [0x00007FF7288F5EB6+801862]\n\t(No symbol) [0x00007FF7287B945F]\n\t(No symbol) [0x00007FF7287B4FB4]\n\t(No symbol) [0x00007FF7287B5140]\n\t(No symbol) [0x00007FF7287A461F]\n\tBaseThreadInitThunk [0x00007FFE6135257D+29]\n\tRtlUserThreadStart [0x00007FFE62A6AF28+40]\n",
     "output_type": "error",
     "traceback": [
      "\u001b[1;31m---------------------------------------------------------------------------\u001b[0m",
      "\u001b[1;31mStaleElementReferenceException\u001b[0m            Traceback (most recent call last)",
      "Cell \u001b[1;32mIn[8], line 4\u001b[0m\n\u001b[0;32m      2\u001b[0m \u001b[38;5;28;01mfor\u001b[39;00m i \u001b[38;5;129;01min\u001b[39;00m e[\u001b[38;5;124m'\u001b[39m\u001b[38;5;124mCountry\u001b[39m\u001b[38;5;124m'\u001b[39m]:\n\u001b[0;32m      3\u001b[0m     \u001b[38;5;28mprint\u001b[39m (i)    \n\u001b[1;32m----> 4\u001b[0m     option\u001b[38;5;241m.\u001b[39msend_keys(i)\n\u001b[0;32m      5\u001b[0m     \u001b[38;5;66;03m#option.click()\u001b[39;00m\n\u001b[0;32m      6\u001b[0m     time\u001b[38;5;241m.\u001b[39msleep(\u001b[38;5;241m5\u001b[39m)\n",
      "File \u001b[1;32m~\\AppData\\Roaming\\Python\\Python311\\site-packages\\selenium\\webdriver\\remote\\webelement.py:231\u001b[0m, in \u001b[0;36mWebElement.send_keys\u001b[1;34m(self, *value)\u001b[0m\n\u001b[0;32m    228\u001b[0m             remote_files\u001b[38;5;241m.\u001b[39mappend(\u001b[38;5;28mself\u001b[39m\u001b[38;5;241m.\u001b[39m_upload(file))\n\u001b[0;32m    229\u001b[0m         value \u001b[38;5;241m=\u001b[39m \u001b[38;5;124m\"\u001b[39m\u001b[38;5;130;01m\\n\u001b[39;00m\u001b[38;5;124m\"\u001b[39m\u001b[38;5;241m.\u001b[39mjoin(remote_files)\n\u001b[1;32m--> 231\u001b[0m \u001b[38;5;28mself\u001b[39m\u001b[38;5;241m.\u001b[39m_execute(\n\u001b[0;32m    232\u001b[0m     Command\u001b[38;5;241m.\u001b[39mSEND_KEYS_TO_ELEMENT, {\u001b[38;5;124m\"\u001b[39m\u001b[38;5;124mtext\u001b[39m\u001b[38;5;124m\"\u001b[39m: \u001b[38;5;124m\"\u001b[39m\u001b[38;5;124m\"\u001b[39m\u001b[38;5;241m.\u001b[39mjoin(keys_to_typing(value)), \u001b[38;5;124m\"\u001b[39m\u001b[38;5;124mvalue\u001b[39m\u001b[38;5;124m\"\u001b[39m: keys_to_typing(value)}\n\u001b[0;32m    233\u001b[0m )\n",
      "File \u001b[1;32m~\\AppData\\Roaming\\Python\\Python311\\site-packages\\selenium\\webdriver\\remote\\webelement.py:395\u001b[0m, in \u001b[0;36mWebElement._execute\u001b[1;34m(self, command, params)\u001b[0m\n\u001b[0;32m    393\u001b[0m     params \u001b[38;5;241m=\u001b[39m {}\n\u001b[0;32m    394\u001b[0m params[\u001b[38;5;124m\"\u001b[39m\u001b[38;5;124mid\u001b[39m\u001b[38;5;124m\"\u001b[39m] \u001b[38;5;241m=\u001b[39m \u001b[38;5;28mself\u001b[39m\u001b[38;5;241m.\u001b[39m_id\n\u001b[1;32m--> 395\u001b[0m \u001b[38;5;28;01mreturn\u001b[39;00m \u001b[38;5;28mself\u001b[39m\u001b[38;5;241m.\u001b[39m_parent\u001b[38;5;241m.\u001b[39mexecute(command, params)\n",
      "File \u001b[1;32m~\\AppData\\Roaming\\Python\\Python311\\site-packages\\selenium\\webdriver\\remote\\webdriver.py:347\u001b[0m, in \u001b[0;36mWebDriver.execute\u001b[1;34m(self, driver_command, params)\u001b[0m\n\u001b[0;32m    345\u001b[0m response \u001b[38;5;241m=\u001b[39m \u001b[38;5;28mself\u001b[39m\u001b[38;5;241m.\u001b[39mcommand_executor\u001b[38;5;241m.\u001b[39mexecute(driver_command, params)\n\u001b[0;32m    346\u001b[0m \u001b[38;5;28;01mif\u001b[39;00m response:\n\u001b[1;32m--> 347\u001b[0m     \u001b[38;5;28mself\u001b[39m\u001b[38;5;241m.\u001b[39merror_handler\u001b[38;5;241m.\u001b[39mcheck_response(response)\n\u001b[0;32m    348\u001b[0m     response[\u001b[38;5;124m\"\u001b[39m\u001b[38;5;124mvalue\u001b[39m\u001b[38;5;124m\"\u001b[39m] \u001b[38;5;241m=\u001b[39m \u001b[38;5;28mself\u001b[39m\u001b[38;5;241m.\u001b[39m_unwrap_value(response\u001b[38;5;241m.\u001b[39mget(\u001b[38;5;124m\"\u001b[39m\u001b[38;5;124mvalue\u001b[39m\u001b[38;5;124m\"\u001b[39m, \u001b[38;5;28;01mNone\u001b[39;00m))\n\u001b[0;32m    349\u001b[0m     \u001b[38;5;28;01mreturn\u001b[39;00m response\n",
      "File \u001b[1;32m~\\AppData\\Roaming\\Python\\Python311\\site-packages\\selenium\\webdriver\\remote\\errorhandler.py:229\u001b[0m, in \u001b[0;36mErrorHandler.check_response\u001b[1;34m(self, response)\u001b[0m\n\u001b[0;32m    227\u001b[0m         alert_text \u001b[38;5;241m=\u001b[39m value[\u001b[38;5;124m\"\u001b[39m\u001b[38;5;124malert\u001b[39m\u001b[38;5;124m\"\u001b[39m]\u001b[38;5;241m.\u001b[39mget(\u001b[38;5;124m\"\u001b[39m\u001b[38;5;124mtext\u001b[39m\u001b[38;5;124m\"\u001b[39m)\n\u001b[0;32m    228\u001b[0m     \u001b[38;5;28;01mraise\u001b[39;00m exception_class(message, screen, stacktrace, alert_text)  \u001b[38;5;66;03m# type: ignore[call-arg]  # mypy is not smart enough here\u001b[39;00m\n\u001b[1;32m--> 229\u001b[0m \u001b[38;5;28;01mraise\u001b[39;00m exception_class(message, screen, stacktrace)\n",
      "\u001b[1;31mStaleElementReferenceException\u001b[0m: Message: stale element reference: stale element not found\n  (Session info: chrome=128.0.6613.120); For documentation on this error, please visit: https://www.selenium.dev/documentation/webdriver/troubleshooting/errors#stale-element-reference-exception\nStacktrace:\n\tGetHandleVerifier [0x00007FF728839412+29090]\n\t(No symbol) [0x00007FF7287AE239]\n\t(No symbol) [0x00007FF72866B1DA]\n\t(No symbol) [0x00007FF72867DBE9]\n\t(No symbol) [0x00007FF728672954]\n\t(No symbol) [0x00007FF728670787]\n\t(No symbol) [0x00007FF728674081]\n\t(No symbol) [0x00007FF728674120]\n\t(No symbol) [0x00007FF7286BFE52]\n\t(No symbol) [0x00007FF7286BFF12]\n\t(No symbol) [0x00007FF7286B5C2B]\n\t(No symbol) [0x00007FF7286E66EA]\n\t(No symbol) [0x00007FF7286B26C6]\n\t(No symbol) [0x00007FF7286E6900]\n\t(No symbol) [0x00007FF7287065A2]\n\t(No symbol) [0x00007FF7286E6493]\n\t(No symbol) [0x00007FF7286B09D1]\n\t(No symbol) [0x00007FF7286B1B31]\n\tGetHandleVerifier [0x00007FF728B5871D+3302573]\n\tGetHandleVerifier [0x00007FF728BA4243+3612627]\n\tGetHandleVerifier [0x00007FF728B9A417+3572135]\n\tGetHandleVerifier [0x00007FF7288F5EB6+801862]\n\t(No symbol) [0x00007FF7287B945F]\n\t(No symbol) [0x00007FF7287B4FB4]\n\t(No symbol) [0x00007FF7287B5140]\n\t(No symbol) [0x00007FF7287A461F]\n\tBaseThreadInitThunk [0x00007FFE6135257D+29]\n\tRtlUserThreadStart [0x00007FFE62A6AF28+40]\n"
     ]
    }
   ],
   "source": [
    "for option in driver.find_elements(By.ID,\"ctl00_NavigationControl_DropDownList_Country\"):\n",
    "    for i in e['Country']:\n",
    "        print (i)    \n",
    "        option.send_keys(i)\n",
    "        #option.click()\n",
    "        time.sleep(5)\n",
    "            \n",
    "    "
   ]
  },
  {
   "cell_type": "code",
   "execution_count": 259,
   "metadata": {
    "collapsed": true
   },
   "outputs": [
    {
     "ename": "ValueError",
     "evalue": "Excel file format cannot be determined, you must specify an engine manually.",
     "output_type": "error",
     "traceback": [
      "\u001b[1;31m---------------------------------------------------------------------------\u001b[0m",
      "\u001b[1;31mValueError\u001b[0m                                Traceback (most recent call last)",
      "Cell \u001b[1;32mIn[259], line 1\u001b[0m\n\u001b[1;32m----> 1\u001b[0m e\u001b[38;5;241m=\u001b[39mpd\u001b[38;5;241m.\u001b[39mread_excel(\u001b[38;5;124m'\u001b[39m\u001b[38;5;124mC:/Users/homa/Downloads/UNSD — Methodology.csv\u001b[39m\u001b[38;5;124m'\u001b[39m)\n\u001b[0;32m      3\u001b[0m \u001b[38;5;28;01mfor\u001b[39;00m i \u001b[38;5;129;01min\u001b[39;00m e[\u001b[38;5;124m'\u001b[39m\u001b[38;5;124mCode\u001b[39m\u001b[38;5;124m'\u001b[39m]:\n\u001b[0;32m      5\u001b[0m     \u001b[38;5;28;01mif\u001b[39;00m \u001b[38;5;28mlen\u001b[39m(\u001b[38;5;28mstr\u001b[39m (i))\u001b[38;5;241m==\u001b[39m\u001b[38;5;241m2\u001b[39m:\n",
      "File \u001b[1;32mc:\\ProgramData\\anaconda3\\Lib\\site-packages\\pandas\\util\\_decorators.py:211\u001b[0m, in \u001b[0;36mdeprecate_kwarg.<locals>._deprecate_kwarg.<locals>.wrapper\u001b[1;34m(*args, **kwargs)\u001b[0m\n\u001b[0;32m    209\u001b[0m     \u001b[38;5;28;01melse\u001b[39;00m:\n\u001b[0;32m    210\u001b[0m         kwargs[new_arg_name] \u001b[38;5;241m=\u001b[39m new_arg_value\n\u001b[1;32m--> 211\u001b[0m \u001b[38;5;28;01mreturn\u001b[39;00m func(\u001b[38;5;241m*\u001b[39margs, \u001b[38;5;241m*\u001b[39m\u001b[38;5;241m*\u001b[39mkwargs)\n",
      "File \u001b[1;32mc:\\ProgramData\\anaconda3\\Lib\\site-packages\\pandas\\util\\_decorators.py:331\u001b[0m, in \u001b[0;36mdeprecate_nonkeyword_arguments.<locals>.decorate.<locals>.wrapper\u001b[1;34m(*args, **kwargs)\u001b[0m\n\u001b[0;32m    325\u001b[0m \u001b[38;5;28;01mif\u001b[39;00m \u001b[38;5;28mlen\u001b[39m(args) \u001b[38;5;241m>\u001b[39m num_allow_args:\n\u001b[0;32m    326\u001b[0m     warnings\u001b[38;5;241m.\u001b[39mwarn(\n\u001b[0;32m    327\u001b[0m         msg\u001b[38;5;241m.\u001b[39mformat(arguments\u001b[38;5;241m=\u001b[39m_format_argument_list(allow_args)),\n\u001b[0;32m    328\u001b[0m         \u001b[38;5;167;01mFutureWarning\u001b[39;00m,\n\u001b[0;32m    329\u001b[0m         stacklevel\u001b[38;5;241m=\u001b[39mfind_stack_level(),\n\u001b[0;32m    330\u001b[0m     )\n\u001b[1;32m--> 331\u001b[0m \u001b[38;5;28;01mreturn\u001b[39;00m func(\u001b[38;5;241m*\u001b[39margs, \u001b[38;5;241m*\u001b[39m\u001b[38;5;241m*\u001b[39mkwargs)\n",
      "File \u001b[1;32mc:\\ProgramData\\anaconda3\\Lib\\site-packages\\pandas\\io\\excel\\_base.py:482\u001b[0m, in \u001b[0;36mread_excel\u001b[1;34m(io, sheet_name, header, names, index_col, usecols, squeeze, dtype, engine, converters, true_values, false_values, skiprows, nrows, na_values, keep_default_na, na_filter, verbose, parse_dates, date_parser, thousands, decimal, comment, skipfooter, convert_float, mangle_dupe_cols, storage_options)\u001b[0m\n\u001b[0;32m    480\u001b[0m \u001b[38;5;28;01mif\u001b[39;00m \u001b[38;5;129;01mnot\u001b[39;00m \u001b[38;5;28misinstance\u001b[39m(io, ExcelFile):\n\u001b[0;32m    481\u001b[0m     should_close \u001b[38;5;241m=\u001b[39m \u001b[38;5;28;01mTrue\u001b[39;00m\n\u001b[1;32m--> 482\u001b[0m     io \u001b[38;5;241m=\u001b[39m ExcelFile(io, storage_options\u001b[38;5;241m=\u001b[39mstorage_options, engine\u001b[38;5;241m=\u001b[39mengine)\n\u001b[0;32m    483\u001b[0m \u001b[38;5;28;01melif\u001b[39;00m engine \u001b[38;5;129;01mand\u001b[39;00m engine \u001b[38;5;241m!=\u001b[39m io\u001b[38;5;241m.\u001b[39mengine:\n\u001b[0;32m    484\u001b[0m     \u001b[38;5;28;01mraise\u001b[39;00m \u001b[38;5;167;01mValueError\u001b[39;00m(\n\u001b[0;32m    485\u001b[0m         \u001b[38;5;124m\"\u001b[39m\u001b[38;5;124mEngine should not be specified when passing \u001b[39m\u001b[38;5;124m\"\u001b[39m\n\u001b[0;32m    486\u001b[0m         \u001b[38;5;124m\"\u001b[39m\u001b[38;5;124man ExcelFile - ExcelFile already has the engine set\u001b[39m\u001b[38;5;124m\"\u001b[39m\n\u001b[0;32m    487\u001b[0m     )\n",
      "File \u001b[1;32mc:\\ProgramData\\anaconda3\\Lib\\site-packages\\pandas\\io\\excel\\_base.py:1656\u001b[0m, in \u001b[0;36mExcelFile.__init__\u001b[1;34m(self, path_or_buffer, engine, storage_options)\u001b[0m\n\u001b[0;32m   1652\u001b[0m     ext \u001b[38;5;241m=\u001b[39m inspect_excel_format(\n\u001b[0;32m   1653\u001b[0m         content_or_path\u001b[38;5;241m=\u001b[39mpath_or_buffer, storage_options\u001b[38;5;241m=\u001b[39mstorage_options\n\u001b[0;32m   1654\u001b[0m     )\n\u001b[0;32m   1655\u001b[0m     \u001b[38;5;28;01mif\u001b[39;00m ext \u001b[38;5;129;01mis\u001b[39;00m \u001b[38;5;28;01mNone\u001b[39;00m:\n\u001b[1;32m-> 1656\u001b[0m         \u001b[38;5;28;01mraise\u001b[39;00m \u001b[38;5;167;01mValueError\u001b[39;00m(\n\u001b[0;32m   1657\u001b[0m             \u001b[38;5;124m\"\u001b[39m\u001b[38;5;124mExcel file format cannot be determined, you must specify \u001b[39m\u001b[38;5;124m\"\u001b[39m\n\u001b[0;32m   1658\u001b[0m             \u001b[38;5;124m\"\u001b[39m\u001b[38;5;124man engine manually.\u001b[39m\u001b[38;5;124m\"\u001b[39m\n\u001b[0;32m   1659\u001b[0m         )\n\u001b[0;32m   1661\u001b[0m engine \u001b[38;5;241m=\u001b[39m config\u001b[38;5;241m.\u001b[39mget_option(\u001b[38;5;124mf\u001b[39m\u001b[38;5;124m\"\u001b[39m\u001b[38;5;124mio.excel.\u001b[39m\u001b[38;5;132;01m{\u001b[39;00mext\u001b[38;5;132;01m}\u001b[39;00m\u001b[38;5;124m.reader\u001b[39m\u001b[38;5;124m\"\u001b[39m, silent\u001b[38;5;241m=\u001b[39m\u001b[38;5;28;01mTrue\u001b[39;00m)\n\u001b[0;32m   1662\u001b[0m \u001b[38;5;28;01mif\u001b[39;00m engine \u001b[38;5;241m==\u001b[39m \u001b[38;5;124m\"\u001b[39m\u001b[38;5;124mauto\u001b[39m\u001b[38;5;124m\"\u001b[39m:\n",
      "\u001b[1;31mValueError\u001b[0m: Excel file format cannot be determined, you must specify an engine manually."
     ]
    }
   ],
   "source": [
    "e=pd.read_excel('C:/Users/homa/Downloads/UNSD — Methodology.csv')\n",
    "\n",
    "for i in e['Code']:\n",
    "    if len(str (i))==2:\n",
    "        e['Code'][i]=('0'+str (i))\n",
    "    elif len(str (i))==1:\n",
    "        e['Code'].iloc[i]=('00'+str (i))\n",
    "    else:\n",
    "        e['Code'].iloc[i]= (str(i))\n",
    "e.head()"
   ]
  },
  {
   "cell_type": "code",
   "execution_count": 7,
   "metadata": {},
   "outputs": [
    {
     "data": {
      "text/html": [
       "<div>\n",
       "<style scoped>\n",
       "    .dataframe tbody tr th:only-of-type {\n",
       "        vertical-align: middle;\n",
       "    }\n",
       "\n",
       "    .dataframe tbody tr th {\n",
       "        vertical-align: top;\n",
       "    }\n",
       "\n",
       "    .dataframe thead th {\n",
       "        text-align: right;\n",
       "    }\n",
       "</style>\n",
       "<table border=\"1\" class=\"dataframe\">\n",
       "  <thead>\n",
       "    <tr style=\"text-align: right;\">\n",
       "      <th></th>\n",
       "      <th>Country</th>\n",
       "      <th>Code</th>\n",
       "      <th>Code.1</th>\n",
       "      <th>Unnamed: 3</th>\n",
       "      <th>Unnamed: 4</th>\n",
       "    </tr>\n",
       "  </thead>\n",
       "  <tbody>\n",
       "    <tr>\n",
       "      <th>0</th>\n",
       "      <td>Algeria</td>\n",
       "      <td>12</td>\n",
       "      <td>12</td>\n",
       "      <td>NaN</td>\n",
       "      <td>Afghanistan</td>\n",
       "    </tr>\n",
       "    <tr>\n",
       "      <th>1</th>\n",
       "      <td>Egypt</td>\n",
       "      <td>818</td>\n",
       "      <td>818</td>\n",
       "      <td>NaN</td>\n",
       "      <td>Albania</td>\n",
       "    </tr>\n",
       "    <tr>\n",
       "      <th>2</th>\n",
       "      <td>Libya</td>\n",
       "      <td>434</td>\n",
       "      <td>434</td>\n",
       "      <td>NaN</td>\n",
       "      <td>Algeria</td>\n",
       "    </tr>\n",
       "    <tr>\n",
       "      <th>3</th>\n",
       "      <td>Morocco</td>\n",
       "      <td>504</td>\n",
       "      <td>504</td>\n",
       "      <td>NaN</td>\n",
       "      <td>American Samoa</td>\n",
       "    </tr>\n",
       "    <tr>\n",
       "      <th>4</th>\n",
       "      <td>Sudan</td>\n",
       "      <td>729</td>\n",
       "      <td>729</td>\n",
       "      <td>NaN</td>\n",
       "      <td>Andorra</td>\n",
       "    </tr>\n",
       "  </tbody>\n",
       "</table>\n",
       "</div>"
      ],
      "text/plain": [
       "   Country  Code  Code.1  Unnamed: 3      Unnamed: 4\n",
       "0  Algeria    12      12         NaN     Afghanistan\n",
       "1    Egypt   818     818         NaN         Albania\n",
       "2    Libya   434     434         NaN         Algeria\n",
       "3  Morocco   504     504         NaN  American Samoa\n",
       "4    Sudan   729     729         NaN         Andorra"
      ]
     },
     "execution_count": 7,
     "metadata": {},
     "output_type": "execute_result"
    }
   ],
   "source": [
    "e=pd.read_csv('C:/Users/homa/Downloads/UNSD — Methodology.csv')\n",
    "\n",
    "e.head()\n"
   ]
  },
  {
   "cell_type": "code",
   "execution_count": 184,
   "metadata": {},
   "outputs": [
    {
     "name": "stdout",
     "output_type": "stream",
     "text": [
      "['All', 'Afghanistan', 'Africa not elsewhere specified', 'Albania', 'Algeria', 'America not elsewhere specified', 'American Samoa', 'Andorra', 'Angola', 'Anguilla', 'Antigua and Barbuda', 'Area Nes', 'Argentina', 'Armenia', 'Aruba', 'Asia not elsewhere specified', 'Australia', 'Austria', 'Azerbaijan', 'Bahamas', 'Bahrain', 'Bangladesh', 'Barbados', 'Belarus', 'Belgium', 'Belize', 'Benin', 'Bermuda', 'Bhutan', 'Bolivia, Plurinational State of', 'Bonaire, Sint Eustatius and Saba', 'Bosnia and Herzegovina', 'Botswana', 'Bouvet Island', 'Brazil', 'British Antarctic Territory', 'British Indian Ocean Territory', 'British Virgin Islands', 'Brunei Darussalam', 'Bulgaria', 'Burkina Faso', 'Burundi', 'Cabo Verde', 'Cambodia', 'Cameroon', 'Canada', 'Caribbean Nes', 'Cayman Islands', 'Centr.Amer.Com.Market (CACM) Nes', 'Central African Republic', 'Chad', 'Chile', 'China', 'Christmas Island', 'Cocos (Keeling) Islands', 'Colombia', 'Comoros', 'Congo', 'Congo, Democratic Republic of the', 'Cook Islands', 'Costa Rica', \"Côte d'Ivoire\", 'Croatia', 'Cuba', 'Curaçao', 'Cyprus', 'Czech Republic', 'Denmark', 'Djibouti', 'Dominica', 'Dominican Republic', 'East Europe not elsewhere specified', 'Ecuador', 'Egypt', 'El Salvador', 'Equatorial Guinea', 'Eritrea', 'Estonia', 'Eswatini', 'Ethiopia', 'Europe EFTA not elsewhere specified', 'Europe Othr. Nes', 'European Union Nes', 'Falkland Islands (Malvinas)', 'Faroe Islands', 'Fiji', 'Finland', 'France', 'Free Zones', 'French Polynesia', 'French Southern and Antarctic Territories', 'Gabon', 'Gambia', 'Georgia', 'Germany', 'Ghana', 'Gibraltar', 'Greece', 'Greenland', 'Grenada', 'Guam', 'Guatemala', 'Guinea', 'Guinea-Bissau', 'Guyana', 'Haiti', 'Honduras', 'Hong Kong, China', 'Hungary', 'Iceland', 'India', 'Indonesia', 'Iran, Islamic Republic of', 'Iraq', 'Ireland', 'Israel', 'Italy', 'Jamaica', 'Japan', 'Jordan', 'Kazakhstan', 'Kenya', 'Kiribati', \"Korea, Democratic People's Republic of\", 'Korea, Republic of', 'Kuwait', 'Kyrgyzstan', 'LAIA not elsewhere specified', \"Lao People's Democratic Republic\", 'Latvia', 'Lebanon', 'Lesotho', 'Liberia', 'Libya, State of', 'Lithuania', 'Luxembourg', 'Macao, China', 'Macedonia, North', 'Madagascar', 'Malawi', 'Malaysia', 'Maldives', 'Mali', 'Malta', 'Marshall Islands', 'Mauritania', 'Mauritius', 'Mayotte', 'Mexico', 'Micronesia, Federated States of', 'Moldova, Republic of', 'Mongolia', 'Montenegro', 'Montserrat', 'Morocco', 'Mozambique', 'Myanmar', 'Namibia', 'Nauru', 'Nepal', 'Netherlands', 'Netherlands Antilles', 'Neutral Zone', 'New Caledonia', 'New Zealand', 'Nicaragua', 'Niger', 'Nigeria', 'Niue', 'Norfolk Island', 'North Africa not elsewhere specified', 'North America and Central America, nes', 'Northern Mariana Islands', 'Norway', 'Oceania Nes', 'Oman', 'Pakistan', 'Palau', 'Palestine, State of', 'Panama', 'Papua New Guinea', 'Paraguay', 'Peru', 'Philippines', 'Pitcairn', 'Poland', 'Portugal', 'Qatar', 'Romania', 'Russian Federation', 'Rwanda', 'Saint Helena', 'Saint Kitts and Nevis', 'Saint Lucia', 'Saint Pierre and Miquelon', 'Saint Vincent and the Grenadines', 'Samoa', 'Sao Tome and Principe', 'Saudi Arabia', 'Senegal', 'Serbia', 'Serbia and Montenegro', 'Seychelles', 'Ship stores and bunkers', 'Sierra Leone', 'Singapore', 'Sint Maarten (Dutch part)', 'Slovakia', 'Slovenia', 'Solomon Islands', 'Somalia', 'South Africa', 'South Sudan', 'Spain', 'Special categories', 'Sri Lanka', 'Sudan', 'Sudan (before 2012)', 'Suriname', 'Sweden', 'Switzerland', 'Syrian Arab Republic', 'Taipei, Chinese', 'Tajikistan', 'Tanzania, United Republic of', 'Territory not allocated', 'Thailand', 'Timor-Leste', 'Togo', 'Tokelau', 'Tonga', 'Trinidad and Tobago', 'Tunisia', 'Türkiye', 'Turkmenistan', 'Turks and Caicos Islands', 'Tuvalu', 'Uganda', 'Ukraine', 'United Arab Emirates', 'United Kingdom', 'United States Minor Outlying Islands', 'United States of America', 'Uruguay', 'Uzbekistan', 'Vanuatu', 'Venezuela, Bolivarian Republic of', 'Viet Nam', 'Wallis and Futuna Islands', 'West Asia not elsewhere specified', 'Western Sahara', 'Yemen', 'Zambia', 'Zimbabwe']\n"
     ]
    }
   ],
   "source": [
    "cn=[]\n",
    "el = driver.find_element(By.ID,'ctl00_NavigationControl_DropDownList_Country')\n",
    "\n",
    "for option in el.find_elements(By.TAG_NAME,'option'):\n",
    "   cn.append(option.text)\n",
    "\n",
    "print (cn)"
   ]
  },
  {
   "cell_type": "code",
   "execution_count": 126,
   "metadata": {},
   "outputs": [
    {
     "data": {
      "text/plain": [
       "<selenium.webdriver.support.select.Select at 0x20d42dfa450>"
      ]
     },
     "execution_count": 126,
     "metadata": {},
     "output_type": "execute_result"
    }
   ],
   "source": [
    "sd=waits.until(EC.element_to_be_clickable((By.ID,'ctl00_NavigationControl_DropDownList_Country')))\n",
    "Select(sd)"
   ]
  },
  {
   "cell_type": "code",
   "execution_count": null,
   "metadata": {},
   "outputs": [],
   "source": [
    "df=pd.DataFrame()\n",
    "temp=pd.DataFrame()\n",
    "i=1\n",
    "j=1\n",
    "for i in range (len(Product_Code)):\n",
    "    for j in range (len (all_countries)):\n",
    "        try:\n",
    "            logintext=driver.find_element(By.CSS_SELECTOR ,(\"#ctl00_MenuControl_Label_Login\"))\n",
    "            if logintext.text=='Login':\n",
    "                 loginuser()\n",
    "            else:\n",
    "                    \n",
    "    ## Select Product \n",
    "                inputproduct= waits.until(EC.element_to_be_clickable ((By.CSS_SELECTOR, '#ctl00_PageContent_RadComboBox_Product_Input')))\n",
    "                inputproduct.send_keys(Product_Code['ProductCode'].iloc[i])\n",
    "                \n",
    "                clkinput= waits.until(EC.element_to_be_clickable((By.CSS_SELECTOR,  '#ctl00_PageContent_RadComboBox_Product_c0'))).click()\n",
    "                #time.sleep(random.randint(5,20))                                       #ctl00_PageContent_RadComboBox_Country_c1\n",
    "\n",
    "        \n",
    "                #time.sleep(random.randint(5,20))\n",
    "                btnIndicator = driver.find_element(By.NAME ,(\"ctl00$PageContent$Button_TradeIndicators\"))\n",
    "                if btnIndicator.is_enabled():\n",
    "                    \n",
    "                    btn=waits.until(EC.element_to_be_clickable((By.CSS_SELECTOR, '#ctl00_PageContent_Button_TradeIndicators'))).click()\n",
    "        ##300 Pages\n",
    "                    incshow=waits.until(EC.element_to_be_clickable((By.XPATH , \"//select[@id='ctl00_PageContent_GridViewPanelControl_DropDownList_PageSize']\")))\n",
    "                    drop=Select(incshow)\n",
    "                    drop.select_by_value('300')\n",
    "                    #time.sleep(random.randint(5,20))\n",
    "                    el = driver.find_element(By.ID,'ctl00_NavigationControl_DropDownList_Country')\n",
    "                    for a in  el.find_elements(By.TAG_NAME,'option'):\n",
    "                        if a.text== all_countries['Country'].iloc[a]:\n",
    "                            a.click()\n",
    "        ## Get Table\n",
    "                            all_tables = pd.read_html(driver.page_source, attrs={'id': 'ctl00_PageContent_MyGridView1'})\n",
    "                            #time.sleep(random.randint(5,20))\n",
    "                            temp = all_tables[0]\n",
    "                            if len(temp)!=1:\n",
    "                                            \n",
    "                        \n",
    "                ## delete Extra Row And Column \n",
    "                                temp=temp.iloc[1: , 1: ]\n",
    "                                temp=temp.iloc[ : , :-4]\n",
    "                                temp.head(10)\n",
    "\n",
    "                ## Use first Row as Header\n",
    "                                new_header = temp.iloc[0] \n",
    "                                temp = temp[1:] \n",
    "                                temp.columns = new_header\n",
    "\n",
    "                ## insert Country and  productcode in column \n",
    "                                temp['Importer']=all_countries['Country'].iloc[j]\n",
    "                                temp['productcode']= Product_Code['ProductCode'].iloc[i]\n",
    "                                temp.drop (temp[temp['Exporters']=='Total'].index, inplace=True)\n",
    "                ## Change Column Name\n",
    "                                average= temp.columns[15]\n",
    "                                sharein= temp.columns[3]\n",
    "                                temp.rename(columns={average:'Average tariff%',sharein:'ShareinCounryImports'}  ,inplace=True)\n",
    "\n",
    "                ## Temp append To df\n",
    "                                df=pd.concat([df,temp], axis=0)\n",
    "                                temp=pd.DataFrame()\n",
    "                    \n",
    "                    else:\n",
    "                        waits.until(EC.element_to_be_clickable((By.CSS_SELECTOR, '#ctl00_MenuControl_Label_Menu_Home'))).click()\n",
    "                        waits.until(EC.element_to_be_clickable((By.CSS_SELECTOR, '#ctl00_PageContent_Image_deleteProduct'))).click()\n",
    "                        waits.until(EC.element_to_be_clickable((By.CSS_SELECTOR, '#ctl00_PageContent_Image_DeleteCountry'))).click()   \n",
    "                    \n",
    "                                    \n",
    "\n",
    "                else:\n",
    "                        waits.until(EC.element_to_be_clickable((By.CSS_SELECTOR, '#ctl00_PageContent_Image_deleteProduct'))).click()\n",
    "                        waits.until(EC.element_to_be_clickable((By.CSS_SELECTOR, '#ctl00_PageContent_Image_DeleteCountry'))).click()\n",
    "\n",
    "            \n",
    "                waits.until(EC.element_to_be_clickable((By.ID, 'ctl00_MenuControl_Label_Menu_Home'))).click()\n",
    "                waits.until(EC.element_to_be_clickable((By.CSS_SELECTOR, '#ctl00_PageContent_Image_deleteProduct'))).click()\n",
    "                waits.until(EC.element_to_be_clickable((By.CSS_SELECTOR, '#ctl00_PageContent_Image_DeleteCountry'))).click()\n",
    "                j+=1\n",
    "                #time.sleep(random.randint(5,20))\n",
    "        except:\n",
    "            waits.until(EC.element_to_be_clickable((By.CSS_SELECTOR, '#ctl00_PageContent_Image_deleteProduct'))).click()\n",
    "            waits.until(EC.element_to_be_clickable((By.CSS_SELECTOR, '#ctl00_PageContent_Image_DeleteCountry'))).click()\n",
    "            #time.sleep(random.randint(5,20))\n",
    "            j-=1\n",
    "\n",
    "    i+=1"
   ]
  }
 ],
 "metadata": {
  "kernelspec": {
   "display_name": "Python 3 (ipykernel)",
   "language": "python",
   "name": "python3"
  },
  "language_info": {
   "codemirror_mode": {
    "name": "ipython",
    "version": 3
   },
   "file_extension": ".py",
   "mimetype": "text/x-python",
   "name": "python",
   "nbconvert_exporter": "python",
   "pygments_lexer": "ipython3",
   "version": "3.11.3"
  }
 },
 "nbformat": 4,
 "nbformat_minor": 2
}
