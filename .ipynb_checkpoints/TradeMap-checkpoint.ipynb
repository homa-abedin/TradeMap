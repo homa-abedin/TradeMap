{
 "cells": [
  {
   "cell_type": "code",
   "execution_count": 7,
   "id": "cf97fce9",
   "metadata": {},
   "outputs": [],
   "source": [
    "from selenium import webdriver\n",
    "from selenium.webdriver.common.by import By\n",
    "import pandas as pd\n",
    "from itertools import chain\n",
    "from selenium.webdriver.support.ui import WebDriverWait\n",
    "from selenium.webdriver.support import expected_conditions as EC"
   ]
  },
  {
   "cell_type": "code",
   "execution_count": 2,
   "id": "482b247e",
   "metadata": {},
   "outputs": [],
   "source": [
    "import time"
   ]
  },
  {
   "cell_type": "code",
   "execution_count": 3,
   "id": "55bf1b3d",
   "metadata": {},
   "outputs": [],
   "source": [
    "driver= webdriver.Chrome()\n"
   ]
  },
  {
   "cell_type": "code",
   "execution_count": 4,
   "id": "b0b31396",
   "metadata": {},
   "outputs": [],
   "source": [
    "driver.get(\"https://www.trademap.org/Index.aspx\")"
   ]
  },
  {
   "cell_type": "code",
   "execution_count": 5,
   "id": "2910e80a",
   "metadata": {},
   "outputs": [],
   "source": [
    " driver.maximize_window()"
   ]
  },
  {
   "cell_type": "code",
   "execution_count": 12,
   "id": "a9e34323",
   "metadata": {},
   "outputs": [
    {
     "ename": "InvalidArgumentException",
     "evalue": "Message: invalid argument: invalid locator\n  (Session info: chrome=128.0.6613.84)\nStacktrace:\n\tGetHandleVerifier [0x00007FF63D8EB632+29090]\n\t(No symbol) [0x00007FF63D85E6E9]\n\t(No symbol) [0x00007FF63D71B1CA]\n\t(No symbol) [0x00007FF63D76E5B3]\n\t(No symbol) [0x00007FF63D76F22C]\n\t(No symbol) [0x00007FF63D7B9827]\n\t(No symbol) [0x00007FF63D79672F]\n\t(No symbol) [0x00007FF63D7B65D9]\n\t(No symbol) [0x00007FF63D796493]\n\t(No symbol) [0x00007FF63D7609B1]\n\t(No symbol) [0x00007FF63D761B11]\n\tGetHandleVerifier [0x00007FF63DC0881D+3294093]\n\tGetHandleVerifier [0x00007FF63DC54403+3604339]\n\tGetHandleVerifier [0x00007FF63DC4A2C7+3563063]\n\tGetHandleVerifier [0x00007FF63D9A6F16+797318]\n\t(No symbol) [0x00007FF63D86986F]\n\t(No symbol) [0x00007FF63D865454]\n\t(No symbol) [0x00007FF63D8655E0]\n\t(No symbol) [0x00007FF63D854A7F]\n\tBaseThreadInitThunk [0x00007FFD7687257D+29]\n\tRtlUserThreadStart [0x00007FFD76FCAF28+40]\n",
     "output_type": "error",
     "traceback": [
      "\u001b[1;31m---------------------------------------------------------------------------\u001b[0m",
      "\u001b[1;31mInvalidArgumentException\u001b[0m                  Traceback (most recent call last)",
      "Cell \u001b[1;32mIn[12], line 1\u001b[0m\n\u001b[1;32m----> 1\u001b[0m result1 \u001b[38;5;241m=\u001b[39m driver\u001b[38;5;241m.\u001b[39mfind_elements(by\u001b[38;5;241m=\u001b[39m\u001b[38;5;124m\"\u001b[39m\u001b[38;5;124m#ctl00_PageContent_RadComboBox_Product_Input\u001b[39m\u001b[38;5;124m\"\u001b[39m)\n\u001b[0;32m      2\u001b[0m \u001b[38;5;28mprint\u001b[39m(\u001b[38;5;28mlen\u001b[39m(result1))\n",
      "File \u001b[1;32m~\\AppData\\Roaming\\Python\\Python311\\site-packages\\selenium\\webdriver\\remote\\webdriver.py:771\u001b[0m, in \u001b[0;36mWebDriver.find_elements\u001b[1;34m(self, by, value)\u001b[0m\n\u001b[0;32m    767\u001b[0m     value \u001b[38;5;241m=\u001b[39m \u001b[38;5;124mf\u001b[39m\u001b[38;5;124m'\u001b[39m\u001b[38;5;124m[name=\u001b[39m\u001b[38;5;124m\"\u001b[39m\u001b[38;5;132;01m{\u001b[39;00mvalue\u001b[38;5;132;01m}\u001b[39;00m\u001b[38;5;124m\"\u001b[39m\u001b[38;5;124m]\u001b[39m\u001b[38;5;124m'\u001b[39m\n\u001b[0;32m    769\u001b[0m \u001b[38;5;66;03m# Return empty list if driver returns null\u001b[39;00m\n\u001b[0;32m    770\u001b[0m \u001b[38;5;66;03m# See https://github.com/SeleniumHQ/selenium/issues/4555\u001b[39;00m\n\u001b[1;32m--> 771\u001b[0m \u001b[38;5;28;01mreturn\u001b[39;00m \u001b[38;5;28mself\u001b[39m\u001b[38;5;241m.\u001b[39mexecute(Command\u001b[38;5;241m.\u001b[39mFIND_ELEMENTS, {\u001b[38;5;124m\"\u001b[39m\u001b[38;5;124musing\u001b[39m\u001b[38;5;124m\"\u001b[39m: by, \u001b[38;5;124m\"\u001b[39m\u001b[38;5;124mvalue\u001b[39m\u001b[38;5;124m\"\u001b[39m: value})[\u001b[38;5;124m\"\u001b[39m\u001b[38;5;124mvalue\u001b[39m\u001b[38;5;124m\"\u001b[39m] \u001b[38;5;129;01mor\u001b[39;00m []\n",
      "File \u001b[1;32m~\\AppData\\Roaming\\Python\\Python311\\site-packages\\selenium\\webdriver\\remote\\webdriver.py:347\u001b[0m, in \u001b[0;36mWebDriver.execute\u001b[1;34m(self, driver_command, params)\u001b[0m\n\u001b[0;32m    345\u001b[0m response \u001b[38;5;241m=\u001b[39m \u001b[38;5;28mself\u001b[39m\u001b[38;5;241m.\u001b[39mcommand_executor\u001b[38;5;241m.\u001b[39mexecute(driver_command, params)\n\u001b[0;32m    346\u001b[0m \u001b[38;5;28;01mif\u001b[39;00m response:\n\u001b[1;32m--> 347\u001b[0m     \u001b[38;5;28mself\u001b[39m\u001b[38;5;241m.\u001b[39merror_handler\u001b[38;5;241m.\u001b[39mcheck_response(response)\n\u001b[0;32m    348\u001b[0m     response[\u001b[38;5;124m\"\u001b[39m\u001b[38;5;124mvalue\u001b[39m\u001b[38;5;124m\"\u001b[39m] \u001b[38;5;241m=\u001b[39m \u001b[38;5;28mself\u001b[39m\u001b[38;5;241m.\u001b[39m_unwrap_value(response\u001b[38;5;241m.\u001b[39mget(\u001b[38;5;124m\"\u001b[39m\u001b[38;5;124mvalue\u001b[39m\u001b[38;5;124m\"\u001b[39m, \u001b[38;5;28;01mNone\u001b[39;00m))\n\u001b[0;32m    349\u001b[0m     \u001b[38;5;28;01mreturn\u001b[39;00m response\n",
      "File \u001b[1;32m~\\AppData\\Roaming\\Python\\Python311\\site-packages\\selenium\\webdriver\\remote\\errorhandler.py:229\u001b[0m, in \u001b[0;36mErrorHandler.check_response\u001b[1;34m(self, response)\u001b[0m\n\u001b[0;32m    227\u001b[0m         alert_text \u001b[38;5;241m=\u001b[39m value[\u001b[38;5;124m\"\u001b[39m\u001b[38;5;124malert\u001b[39m\u001b[38;5;124m\"\u001b[39m]\u001b[38;5;241m.\u001b[39mget(\u001b[38;5;124m\"\u001b[39m\u001b[38;5;124mtext\u001b[39m\u001b[38;5;124m\"\u001b[39m)\n\u001b[0;32m    228\u001b[0m     \u001b[38;5;28;01mraise\u001b[39;00m exception_class(message, screen, stacktrace, alert_text)  \u001b[38;5;66;03m# type: ignore[call-arg]  # mypy is not smart enough here\u001b[39;00m\n\u001b[1;32m--> 229\u001b[0m \u001b[38;5;28;01mraise\u001b[39;00m exception_class(message, screen, stacktrace)\n",
      "\u001b[1;31mInvalidArgumentException\u001b[0m: Message: invalid argument: invalid locator\n  (Session info: chrome=128.0.6613.84)\nStacktrace:\n\tGetHandleVerifier [0x00007FF63D8EB632+29090]\n\t(No symbol) [0x00007FF63D85E6E9]\n\t(No symbol) [0x00007FF63D71B1CA]\n\t(No symbol) [0x00007FF63D76E5B3]\n\t(No symbol) [0x00007FF63D76F22C]\n\t(No symbol) [0x00007FF63D7B9827]\n\t(No symbol) [0x00007FF63D79672F]\n\t(No symbol) [0x00007FF63D7B65D9]\n\t(No symbol) [0x00007FF63D796493]\n\t(No symbol) [0x00007FF63D7609B1]\n\t(No symbol) [0x00007FF63D761B11]\n\tGetHandleVerifier [0x00007FF63DC0881D+3294093]\n\tGetHandleVerifier [0x00007FF63DC54403+3604339]\n\tGetHandleVerifier [0x00007FF63DC4A2C7+3563063]\n\tGetHandleVerifier [0x00007FF63D9A6F16+797318]\n\t(No symbol) [0x00007FF63D86986F]\n\t(No symbol) [0x00007FF63D865454]\n\t(No symbol) [0x00007FF63D8655E0]\n\t(No symbol) [0x00007FF63D854A7F]\n\tBaseThreadInitThunk [0x00007FFD7687257D+29]\n\tRtlUserThreadStart [0x00007FFD76FCAF28+40]\n"
     ]
    }
   ],
   "source": [
    "result1 = driver.find_elements(by=\"#ctl00_PageContent_RadComboBox_Product_Input\")\n",
    "print(len(result1))"
   ]
  },
  {
   "cell_type": "code",
   "execution_count": null,
   "id": "32454585",
   "metadata": {},
   "outputs": [],
   "source": []
  }
 ],
 "metadata": {
  "kernelspec": {
   "display_name": "Python 3 (ipykernel)",
   "language": "python",
   "name": "python3"
  },
  "language_info": {
   "codemirror_mode": {
    "name": "ipython",
    "version": 3
   },
   "file_extension": ".py",
   "mimetype": "text/x-python",
   "name": "python",
   "nbconvert_exporter": "python",
   "pygments_lexer": "ipython3",
   "version": "3.11.3"
  }
 },
 "nbformat": 4,
 "nbformat_minor": 5
}
