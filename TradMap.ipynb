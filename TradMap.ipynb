{
 "cells": [
  {
   "cell_type": "code",
   "execution_count": 83,
   "metadata": {},
   "outputs": [],
   "source": [
    "from selenium import webdriver\n",
    "from selenium.webdriver.common.by import By\n",
    "import pandas as pd\n",
    "from itertools import chain\n",
    "from selenium.webdriver.support.ui import WebDriverWait\n",
    "from selenium.webdriver.support import expected_conditions as EC\n",
    "import time\n",
    "from selenium.webdriver.support.ui import WebDriverWait\n",
    "from selenium.webdriver.support.ui import Select\n",
    "from selenium.webdriver.common.keys import Keys\n",
    "import numpy as np"
   ]
  },
  {
   "cell_type": "code",
   "execution_count": 74,
   "metadata": {},
   "outputs": [
    {
     "data": {
      "text/html": [
       "<div>\n",
       "<style scoped>\n",
       "    .dataframe tbody tr th:only-of-type {\n",
       "        vertical-align: middle;\n",
       "    }\n",
       "\n",
       "    .dataframe tbody tr th {\n",
       "        vertical-align: top;\n",
       "    }\n",
       "\n",
       "    .dataframe thead th {\n",
       "        text-align: right;\n",
       "    }\n",
       "</style>\n",
       "<table border=\"1\" class=\"dataframe\">\n",
       "  <thead>\n",
       "    <tr style=\"text-align: right;\">\n",
       "      <th></th>\n",
       "      <th>Country</th>\n",
       "      <th>Unnamed: 1</th>\n",
       "    </tr>\n",
       "  </thead>\n",
       "  <tbody>\n",
       "    <tr>\n",
       "      <th>0</th>\n",
       "      <td>'Afghanistan</td>\n",
       "      <td>''Afghanistan</td>\n",
       "    </tr>\n",
       "    <tr>\n",
       "      <th>1</th>\n",
       "      <td>'Albania</td>\n",
       "      <td>''Albania</td>\n",
       "    </tr>\n",
       "  </tbody>\n",
       "</table>\n",
       "</div>"
      ],
      "text/plain": [
       "        Country     Unnamed: 1\n",
       "0  'Afghanistan  ''Afghanistan\n",
       "1      'Albania      ''Albania"
      ]
     },
     "execution_count": 74,
     "metadata": {},
     "output_type": "execute_result"
    }
   ],
   "source": [
    "all_countries=pd.read_csv(\"C:/Users/homa/Python-Notbook/TradeMap/all_countries.csv\")\n",
    "Product_Code=pd.read_csv(\"C:/Users/homa/Python-Notbook/TradeMap/Product_Codem.csv\")\n",
    "all_countries.head(2)"
   ]
  },
  {
   "cell_type": "code",
   "execution_count": 62,
   "metadata": {},
   "outputs": [],
   "source": [
    "\n",
    "driver= webdriver.Chrome()\n"
   ]
  },
  {
   "cell_type": "code",
   "execution_count": 63,
   "metadata": {},
   "outputs": [],
   "source": [
    "driver.get(\"https://www.trademap.org/Index.aspx\")"
   ]
  },
  {
   "cell_type": "code",
   "execution_count": null,
   "metadata": {},
   "outputs": [],
   "source": [
    "driver.maximize_window()"
   ]
  },
  {
   "cell_type": "code",
   "execution_count": 64,
   "metadata": {},
   "outputs": [],
   "source": [
    "\n",
    "waits= WebDriverWait(driver, 30)"
   ]
  },
  {
   "cell_type": "markdown",
   "metadata": {},
   "source": [
    "## Login Users"
   ]
  },
  {
   "cell_type": "code",
   "execution_count": 49,
   "metadata": {},
   "outputs": [],
   "source": [
    "login=waits.until(EC.element_to_be_clickable((By.CSS_SELECTOR, '#ctl00_MenuControl_Label_Login')))\n",
    "login.click()\n",
    "getemail= waits.until(EC.element_to_be_clickable((By.CSS_SELECTOR, '#Username')))\n",
    "getemail.send_keys('homa.abedinzadeh@gmail.com')\n",
    "\n",
    "getpassword= waits.until(EC.element_to_be_clickable((By.CSS_SELECTOR, '#Password')))\n",
    "getpassword.send_keys('Aa@97019701')\n",
    "\n",
    "btnlogin=waits.until(EC.element_to_be_clickable((By.CSS_SELECTOR,'body > div.container > div > div:nth-child(2) > div > div > div > form > fieldset > div:nth-child(4) > div > button'))).click()\n",
    "\n"
   ]
  },
  {
   "cell_type": "code",
   "execution_count": 75,
   "metadata": {},
   "outputs": [
    {
     "name": "stdout",
     "output_type": "stream",
     "text": [
      "'170410\n"
     ]
    }
   ],
   "source": [
    "print (Product_Code['ProductCode'].iloc[1])"
   ]
  },
  {
   "cell_type": "markdown",
   "metadata": {},
   "source": [
    "## Get Codes and Country"
   ]
  },
  {
   "cell_type": "code",
   "execution_count": 81,
   "metadata": {},
   "outputs": [
    {
     "name": "stderr",
     "output_type": "stream",
     "text": [
      "C:\\Users\\homa\\AppData\\Local\\Temp\\ipykernel_29700\\940495062.py:48: FutureWarning: The frame.append method is deprecated and will be removed from pandas in a future version. Use pandas.concat instead.\n",
      "  df.append(temp)\n",
      "C:\\Users\\homa\\AppData\\Local\\Temp\\ipykernel_29700\\940495062.py:48: FutureWarning: The frame.append method is deprecated and will be removed from pandas in a future version. Use pandas.concat instead.\n",
      "  df.append(temp)\n",
      "C:\\Users\\homa\\AppData\\Local\\Temp\\ipykernel_29700\\940495062.py:48: FutureWarning: The frame.append method is deprecated and will be removed from pandas in a future version. Use pandas.concat instead.\n",
      "  df.append(temp)\n",
      "C:\\Users\\homa\\AppData\\Local\\Temp\\ipykernel_29700\\940495062.py:48: FutureWarning: The frame.append method is deprecated and will be removed from pandas in a future version. Use pandas.concat instead.\n",
      "  df.append(temp)\n",
      "C:\\Users\\homa\\AppData\\Local\\Temp\\ipykernel_29700\\940495062.py:48: FutureWarning: The frame.append method is deprecated and will be removed from pandas in a future version. Use pandas.concat instead.\n",
      "  df.append(temp)\n",
      "C:\\Users\\homa\\AppData\\Local\\Temp\\ipykernel_29700\\940495062.py:48: FutureWarning: The frame.append method is deprecated and will be removed from pandas in a future version. Use pandas.concat instead.\n",
      "  df.append(temp)\n",
      "C:\\Users\\homa\\AppData\\Local\\Temp\\ipykernel_29700\\940495062.py:48: FutureWarning: The frame.append method is deprecated and will be removed from pandas in a future version. Use pandas.concat instead.\n",
      "  df.append(temp)\n",
      "C:\\Users\\homa\\AppData\\Local\\Temp\\ipykernel_29700\\940495062.py:48: FutureWarning: The frame.append method is deprecated and will be removed from pandas in a future version. Use pandas.concat instead.\n",
      "  df.append(temp)\n",
      "C:\\Users\\homa\\AppData\\Local\\Temp\\ipykernel_29700\\940495062.py:48: FutureWarning: The frame.append method is deprecated and will be removed from pandas in a future version. Use pandas.concat instead.\n",
      "  df.append(temp)\n",
      "C:\\Users\\homa\\AppData\\Local\\Temp\\ipykernel_29700\\940495062.py:48: FutureWarning: The frame.append method is deprecated and will be removed from pandas in a future version. Use pandas.concat instead.\n",
      "  df.append(temp)\n",
      "C:\\Users\\homa\\AppData\\Local\\Temp\\ipykernel_29700\\940495062.py:48: FutureWarning: The frame.append method is deprecated and will be removed from pandas in a future version. Use pandas.concat instead.\n",
      "  df.append(temp)\n",
      "C:\\Users\\homa\\AppData\\Local\\Temp\\ipykernel_29700\\940495062.py:48: FutureWarning: The frame.append method is deprecated and will be removed from pandas in a future version. Use pandas.concat instead.\n",
      "  df.append(temp)\n",
      "C:\\Users\\homa\\AppData\\Local\\Temp\\ipykernel_29700\\940495062.py:48: FutureWarning: The frame.append method is deprecated and will be removed from pandas in a future version. Use pandas.concat instead.\n",
      "  df.append(temp)\n",
      "C:\\Users\\homa\\AppData\\Local\\Temp\\ipykernel_29700\\940495062.py:48: FutureWarning: The frame.append method is deprecated and will be removed from pandas in a future version. Use pandas.concat instead.\n",
      "  df.append(temp)\n",
      "C:\\Users\\homa\\AppData\\Local\\Temp\\ipykernel_29700\\940495062.py:48: FutureWarning: The frame.append method is deprecated and will be removed from pandas in a future version. Use pandas.concat instead.\n",
      "  df.append(temp)\n",
      "C:\\Users\\homa\\AppData\\Local\\Temp\\ipykernel_29700\\940495062.py:48: FutureWarning: The frame.append method is deprecated and will be removed from pandas in a future version. Use pandas.concat instead.\n",
      "  df.append(temp)\n",
      "C:\\Users\\homa\\AppData\\Local\\Temp\\ipykernel_29700\\940495062.py:48: FutureWarning: The frame.append method is deprecated and will be removed from pandas in a future version. Use pandas.concat instead.\n",
      "  df.append(temp)\n",
      "C:\\Users\\homa\\AppData\\Local\\Temp\\ipykernel_29700\\940495062.py:48: FutureWarning: The frame.append method is deprecated and will be removed from pandas in a future version. Use pandas.concat instead.\n",
      "  df.append(temp)\n",
      "C:\\Users\\homa\\AppData\\Local\\Temp\\ipykernel_29700\\940495062.py:48: FutureWarning: The frame.append method is deprecated and will be removed from pandas in a future version. Use pandas.concat instead.\n",
      "  df.append(temp)\n",
      "C:\\Users\\homa\\AppData\\Local\\Temp\\ipykernel_29700\\940495062.py:48: FutureWarning: The frame.append method is deprecated and will be removed from pandas in a future version. Use pandas.concat instead.\n",
      "  df.append(temp)\n",
      "C:\\Users\\homa\\AppData\\Local\\Temp\\ipykernel_29700\\940495062.py:48: FutureWarning: The frame.append method is deprecated and will be removed from pandas in a future version. Use pandas.concat instead.\n",
      "  df.append(temp)\n",
      "C:\\Users\\homa\\AppData\\Local\\Temp\\ipykernel_29700\\940495062.py:48: FutureWarning: The frame.append method is deprecated and will be removed from pandas in a future version. Use pandas.concat instead.\n",
      "  df.append(temp)\n",
      "C:\\Users\\homa\\AppData\\Local\\Temp\\ipykernel_29700\\940495062.py:48: FutureWarning: The frame.append method is deprecated and will be removed from pandas in a future version. Use pandas.concat instead.\n",
      "  df.append(temp)\n",
      "C:\\Users\\homa\\AppData\\Local\\Temp\\ipykernel_29700\\940495062.py:48: FutureWarning: The frame.append method is deprecated and will be removed from pandas in a future version. Use pandas.concat instead.\n",
      "  df.append(temp)\n",
      "C:\\Users\\homa\\AppData\\Local\\Temp\\ipykernel_29700\\940495062.py:48: FutureWarning: The frame.append method is deprecated and will be removed from pandas in a future version. Use pandas.concat instead.\n",
      "  df.append(temp)\n",
      "C:\\Users\\homa\\AppData\\Local\\Temp\\ipykernel_29700\\940495062.py:48: FutureWarning: The frame.append method is deprecated and will be removed from pandas in a future version. Use pandas.concat instead.\n",
      "  df.append(temp)\n",
      "C:\\Users\\homa\\AppData\\Local\\Temp\\ipykernel_29700\\940495062.py:48: FutureWarning: The frame.append method is deprecated and will be removed from pandas in a future version. Use pandas.concat instead.\n",
      "  df.append(temp)\n",
      "C:\\Users\\homa\\AppData\\Local\\Temp\\ipykernel_29700\\940495062.py:48: FutureWarning: The frame.append method is deprecated and will be removed from pandas in a future version. Use pandas.concat instead.\n",
      "  df.append(temp)\n",
      "C:\\Users\\homa\\AppData\\Local\\Temp\\ipykernel_29700\\940495062.py:48: FutureWarning: The frame.append method is deprecated and will be removed from pandas in a future version. Use pandas.concat instead.\n",
      "  df.append(temp)\n",
      "C:\\Users\\homa\\AppData\\Local\\Temp\\ipykernel_29700\\940495062.py:48: FutureWarning: The frame.append method is deprecated and will be removed from pandas in a future version. Use pandas.concat instead.\n",
      "  df.append(temp)\n"
     ]
    },
    {
     "ename": "TimeoutException",
     "evalue": "Message: \nStacktrace:\n\tGetHandleVerifier [0x00007FF78277B5D2+29090]\n\t(No symbol) [0x00007FF7826EE689]\n\t(No symbol) [0x00007FF7825AB1CA]\n\t(No symbol) [0x00007FF7825FEFD7]\n\t(No symbol) [0x00007FF7825FF22C]\n\t(No symbol) [0x00007FF7826497F7]\n\t(No symbol) [0x00007FF78262672F]\n\t(No symbol) [0x00007FF7826465D9]\n\t(No symbol) [0x00007FF782626493]\n\t(No symbol) [0x00007FF7825F09B1]\n\t(No symbol) [0x00007FF7825F1B11]\n\tGetHandleVerifier [0x00007FF782A98C5D+3295277]\n\tGetHandleVerifier [0x00007FF782AE4843+3605523]\n\tGetHandleVerifier [0x00007FF782ADA707+3564247]\n\tGetHandleVerifier [0x00007FF782836EB6+797318]\n\t(No symbol) [0x00007FF7826F980F]\n\t(No symbol) [0x00007FF7826F53F4]\n\t(No symbol) [0x00007FF7826F5580]\n\t(No symbol) [0x00007FF7826E4A1F]\n\tBaseThreadInitThunk [0x00007FFDEDA4257D+29]\n\tRtlUserThreadStart [0x00007FFDEED6AF28+40]\n",
     "output_type": "error",
     "traceback": [
      "\u001b[1;31m---------------------------------------------------------------------------\u001b[0m",
      "\u001b[1;31mTimeoutException\u001b[0m                          Traceback (most recent call last)",
      "Cell \u001b[1;32mIn[81], line 9\u001b[0m\n\u001b[0;32m      6\u001b[0m        inputproduct\u001b[38;5;241m=\u001b[39m waits\u001b[38;5;241m.\u001b[39muntil(EC\u001b[38;5;241m.\u001b[39melement_to_be_clickable ((By\u001b[38;5;241m.\u001b[39mCSS_SELECTOR, \u001b[38;5;124m'\u001b[39m\u001b[38;5;124m#ctl00_PageContent_RadComboBox_Product_Input\u001b[39m\u001b[38;5;124m'\u001b[39m)))\n\u001b[0;32m      7\u001b[0m        inputproduct\u001b[38;5;241m.\u001b[39msend_keys(Product_Code[\u001b[38;5;124m'\u001b[39m\u001b[38;5;124mProductCode\u001b[39m\u001b[38;5;124m'\u001b[39m]\u001b[38;5;241m.\u001b[39miloc[i])\n\u001b[1;32m----> 9\u001b[0m        clkinput\u001b[38;5;241m=\u001b[39m waits\u001b[38;5;241m.\u001b[39muntil(EC\u001b[38;5;241m.\u001b[39melement_to_be_clickable((By\u001b[38;5;241m.\u001b[39mCSS_SELECTOR,  \u001b[38;5;124m'\u001b[39m\u001b[38;5;124m#ctl00_PageContent_RadComboBox_Product_c0\u001b[39m\u001b[38;5;124m'\u001b[39m)))\u001b[38;5;241m.\u001b[39mclick()\n\u001b[0;32m     12\u001b[0m \u001b[38;5;66;03m## select Country\u001b[39;00m\n\u001b[0;32m     13\u001b[0m        inputContry\u001b[38;5;241m=\u001b[39m waits\u001b[38;5;241m.\u001b[39muntil(EC\u001b[38;5;241m.\u001b[39melement_to_be_clickable((By\u001b[38;5;241m.\u001b[39mCSS_SELECTOR,  \u001b[38;5;124m'\u001b[39m\u001b[38;5;124m#ctl00_PageContent_RadComboBox_Country_Input\u001b[39m\u001b[38;5;124m'\u001b[39m)))\n",
      "File \u001b[1;32m~\\AppData\\Roaming\\Python\\Python311\\site-packages\\selenium\\webdriver\\support\\wait.py:105\u001b[0m, in \u001b[0;36mWebDriverWait.until\u001b[1;34m(self, method, message)\u001b[0m\n\u001b[0;32m    103\u001b[0m     \u001b[38;5;28;01mif\u001b[39;00m time\u001b[38;5;241m.\u001b[39mmonotonic() \u001b[38;5;241m>\u001b[39m end_time:\n\u001b[0;32m    104\u001b[0m         \u001b[38;5;28;01mbreak\u001b[39;00m\n\u001b[1;32m--> 105\u001b[0m \u001b[38;5;28;01mraise\u001b[39;00m TimeoutException(message, screen, stacktrace)\n",
      "\u001b[1;31mTimeoutException\u001b[0m: Message: \nStacktrace:\n\tGetHandleVerifier [0x00007FF78277B5D2+29090]\n\t(No symbol) [0x00007FF7826EE689]\n\t(No symbol) [0x00007FF7825AB1CA]\n\t(No symbol) [0x00007FF7825FEFD7]\n\t(No symbol) [0x00007FF7825FF22C]\n\t(No symbol) [0x00007FF7826497F7]\n\t(No symbol) [0x00007FF78262672F]\n\t(No symbol) [0x00007FF7826465D9]\n\t(No symbol) [0x00007FF782626493]\n\t(No symbol) [0x00007FF7825F09B1]\n\t(No symbol) [0x00007FF7825F1B11]\n\tGetHandleVerifier [0x00007FF782A98C5D+3295277]\n\tGetHandleVerifier [0x00007FF782AE4843+3605523]\n\tGetHandleVerifier [0x00007FF782ADA707+3564247]\n\tGetHandleVerifier [0x00007FF782836EB6+797318]\n\t(No symbol) [0x00007FF7826F980F]\n\t(No symbol) [0x00007FF7826F53F4]\n\t(No symbol) [0x00007FF7826F5580]\n\t(No symbol) [0x00007FF7826E4A1F]\n\tBaseThreadInitThunk [0x00007FFDEDA4257D+29]\n\tRtlUserThreadStart [0x00007FFDEED6AF28+40]\n"
     ]
    }
   ],
   "source": [
    "df=pd.DataFrame()\n",
    "for i in range (len(Product_Code)):\n",
    "    for j in range (len (all_countries)):\n",
    "\n",
    " ## Select Product \n",
    "        inputproduct= waits.until(EC.element_to_be_clickable ((By.CSS_SELECTOR, '#ctl00_PageContent_RadComboBox_Product_Input')))\n",
    "        inputproduct.send_keys(Product_Code['ProductCode'].iloc[i])\n",
    "\n",
    "        clkinput= waits.until(EC.element_to_be_clickable((By.CSS_SELECTOR,  '#ctl00_PageContent_RadComboBox_Product_c0'))).click()\n",
    "\n",
    "\n",
    " ## select Country\n",
    "        inputContry= waits.until(EC.element_to_be_clickable((By.CSS_SELECTOR,  '#ctl00_PageContent_RadComboBox_Country_Input')))\n",
    "        inputContry.send_keys(all_countries['Country'].iloc[j])\n",
    "\n",
    "        clkinput2= waits.until(EC.element_to_be_clickable((By.CSS_SELECTOR,  '#ctl00_PageContent_RadComboBox_Country_c0'))).click()\n",
    "        \n",
    "        btnIndicator = driver.find_element(By.NAME ,(\"ctl00$PageContent$Button_TradeIndicators\"))\n",
    "        if btnIndicator.is_enabled():\n",
    "            \n",
    "            btn=waits.until(EC.element_to_be_clickable((By.CSS_SELECTOR, '#ctl00_PageContent_Button_TradeIndicators'))).click()\n",
    "##300 Pages\n",
    "            incshow=waits.until(EC.element_to_be_clickable((By.XPATH , \"//select[@id='ctl00_PageContent_GridViewPanelControl_DropDownList_PageSize']\")))\n",
    "            drop=Select(incshow)\n",
    "            drop.select_by_value('300')\n",
    "## Get Table\n",
    "            all_tables = pd.read_html(driver.page_source, attrs={'id': 'ctl00_PageContent_MyGridView1'})\n",
    "            temp = all_tables[0]\n",
    "            if len(temp)!=1:\n",
    "                 \n",
    "        \n",
    "## delete Extra Row And Column \n",
    "                temp=temp.iloc[1: , 1: ]\n",
    "                temp=temp.iloc[ : , :-4]\n",
    "                temp.head(10)\n",
    "\n",
    "## Use first Row as Header\n",
    "                new_header = temp.iloc[0] \n",
    "                temp = temp[1:] \n",
    "                temp.columns = new_header\n",
    "\n",
    "## insert Country and  productcode in column \n",
    "                temp['Importer']=all_countries['Country'].iloc[j]\n",
    "                temp['productcode']= Product_Code['ProductCode'].iloc[i]\n",
    "                temp.drop (temp[temp['Exporters']=='Total'].index, inplace=True)\n",
    "\n",
    "## Temp append To df\n",
    "                df=np.append([df,temp], axis=0)\n",
    "                temp=[]\n",
    "               \n",
    "            else:\n",
    "                waits.until(EC.element_to_be_clickable((By.CSS_SELECTOR, '#ctl00_MenuControl_Label_Menu_Home'))).click()\n",
    "                waits.until(EC.element_to_be_clickable((By.CSS_SELECTOR, '#ctl00_PageContent_Image_deleteProduct'))).click()\n",
    "                waits.until(EC.element_to_be_clickable((By.CSS_SELECTOR, '#ctl00_PageContent_Image_DeleteCountry'))).click()   \n",
    "               \n",
    "                              \n",
    "\n",
    "        else:\n",
    "                waits.until(EC.element_to_be_clickable((By.CSS_SELECTOR, '#ctl00_PageContent_Image_deleteProduct'))).click()\n",
    "                waits.until(EC.element_to_be_clickable((By.CSS_SELECTOR, '#ctl00_PageContent_Image_DeleteCountry'))).click()\n",
    "\n",
    "       \n",
    "        waits.until(EC.element_to_be_clickable((By.CSS_SELECTOR, '#ctl00_MenuControl_Label_Menu_Home'))).click()\n",
    "        waits.until(EC.element_to_be_clickable((By.CSS_SELECTOR, '#ctl00_PageContent_Image_deleteProduct'))).click()\n",
    "        waits.until(EC.element_to_be_clickable((By.CSS_SELECTOR, '#ctl00_PageContent_Image_DeleteCountry'))).click()\n",
    "        j+=1\n",
    "\n",
    "i+=1"
   ]
  },
  {
   "cell_type": "code",
   "execution_count": 82,
   "metadata": {},
   "outputs": [
    {
     "ename": "TypeError",
     "evalue": "'tuple' object is not callable",
     "output_type": "error",
     "traceback": [
      "\u001b[1;31m---------------------------------------------------------------------------\u001b[0m",
      "\u001b[1;31mTypeError\u001b[0m                                 Traceback (most recent call last)",
      "Cell \u001b[1;32mIn[82], line 1\u001b[0m\n\u001b[1;32m----> 1\u001b[0m df\u001b[38;5;241m.\u001b[39mshape()\n",
      "\u001b[1;31mTypeError\u001b[0m: 'tuple' object is not callable"
     ]
    }
   ],
   "source": [
    "df.shape()"
   ]
  },
  {
   "cell_type": "code",
   "execution_count": 56,
   "metadata": {},
   "outputs": [
    {
     "data": {
      "text/plain": [
       "1"
      ]
     },
     "execution_count": 56,
     "metadata": {},
     "output_type": "execute_result"
    }
   ],
   "source": [
    "all_tables = pd.read_html(driver.page_source, attrs={'id': 'ctl00_PageContent_MyGridView1'})\n",
    "temp = all_tables[0]\n",
    "len (temp)"
   ]
  },
  {
   "cell_type": "code",
   "execution_count": null,
   "metadata": {},
   "outputs": [],
   "source": [
    "\n",
    "\n",
    "## delete Extra Row And Column \n",
    "temp=temp.iloc[1: , 1: ]\n",
    "temp=temp.iloc[ : , :-4]\n",
    "temp.head(10)\n",
    "\n",
    "## Use first Row as Header\n",
    "new_header = temp.iloc[0] \n",
    "temp = temp[1:] \n",
    "temp.columns = new_header\n",
    "\n",
    "## insert Country and  productcode in column \n",
    "temp['Importer']=all_countries['Country'].iloc[j]\n",
    "temp['productcode']= Product_Code['ProductCode'].iloc[i]\n",
    "temp.drop (temp[temp['Exporters']=='Total'].index, inplace=True)"
   ]
  }
 ],
 "metadata": {
  "kernelspec": {
   "display_name": "base",
   "language": "python",
   "name": "python3"
  },
  "language_info": {
   "codemirror_mode": {
    "name": "ipython",
    "version": 3
   },
   "file_extension": ".py",
   "mimetype": "text/x-python",
   "name": "python",
   "nbconvert_exporter": "python",
   "pygments_lexer": "ipython3",
   "version": "3.11.3"
  }
 },
 "nbformat": 4,
 "nbformat_minor": 2
}
