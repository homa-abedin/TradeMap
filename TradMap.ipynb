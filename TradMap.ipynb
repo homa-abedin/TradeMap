{
 "cells": [
  {
   "cell_type": "code",
   "execution_count": 3,
   "metadata": {},
   "outputs": [],
   "source": [
    "from selenium import webdriver\n",
    "from selenium.webdriver.common.by import By\n",
    "import pandas as pd\n",
    "from itertools import chain\n",
    "from selenium.webdriver.support.ui import WebDriverWait\n",
    "from selenium.webdriver.support import expected_conditions as EC\n",
    "import time"
   ]
  },
  {
   "cell_type": "code",
   "execution_count": 4,
   "metadata": {},
   "outputs": [],
   "source": [
    "driver= webdriver.Chrome()\n"
   ]
  },
  {
   "cell_type": "code",
   "execution_count": 5,
   "metadata": {},
   "outputs": [],
   "source": [
    "driver.get(\"https://www.trademap.org/Index.aspx\")"
   ]
  },
  {
   "cell_type": "code",
   "execution_count": 6,
   "metadata": {},
   "outputs": [],
   "source": [
    "driver.maximize_window()"
   ]
  },
  {
   "cell_type": "code",
   "execution_count": 21,
   "metadata": {},
   "outputs": [],
   "source": [
    "login=driver.find_element(By.CSS_SELECTOR, value='#ctl00_MenuControl_Label_Login')\n",
    "login.click()\n",
    "getemail= driver.find_element (By.CSS_SELECTOR, value='#Username')\n",
    "getemail.send_keys('homa.abedinzadeh@gmail.com')\n",
    "time.sleep(2)\n",
    "getpassword= driver.find_element (By.CSS_SELECTOR, value='#Password')\n",
    "getpassword.send_keys('Aa@97019701')\n",
    "time.sleep(2)\n",
    "btnlogin=driver.find_element(By.CSS_SELECTOR,value='body > div.container > div > div:nth-child(2) > div > div > div > form > fieldset > div:nth-child(4) > div > button')\n",
    "btnlogin.click()\n"
   ]
  },
  {
   "cell_type": "code",
   "execution_count": 22,
   "metadata": {},
   "outputs": [],
   "source": [
    "inputproduct= driver.find_element(By.CSS_SELECTOR, value='#ctl00_PageContent_RadComboBox_Product_Input')\n",
    "inputproduct.send_keys(' 170410')\n",
    "time.sleep(3)\n",
    "clkinput= driver.find_element(By.CSS_SELECTOR, value= '#ctl00_PageContent_RadComboBox_Product_c0')\n",
    "clkinput.click()\n",
    "\n",
    "inputContry= driver.find_element(By.CSS_SELECTOR, value= '#ctl00_PageContent_RadComboBox_Country_Input')\n",
    "inputContry.send_keys('Iran, Islamic Republic of')\n",
    "time.sleep(3)\n",
    "clkinput2= driver.find_element(By.CSS_SELECTOR, value= '#ctl00_PageContent_RadComboBox_Country_c0')\n",
    "clkinput2.click()\n",
    "btn=driver.find_element(By.CSS_SELECTOR, value='#ctl00_PageContent_Button_TradeIndicators')\n",
    "btn.click()"
   ]
  },
  {
   "cell_type": "code",
   "execution_count": null,
   "metadata": {},
   "outputs": [],
   "source": []
  }
 ],
 "metadata": {
  "kernelspec": {
   "display_name": "base",
   "language": "python",
   "name": "python3"
  },
  "language_info": {
   "codemirror_mode": {
    "name": "ipython",
    "version": 3
   },
   "file_extension": ".py",
   "mimetype": "text/x-python",
   "name": "python",
   "nbconvert_exporter": "python",
   "pygments_lexer": "ipython3",
   "version": "3.11.3"
  }
 },
 "nbformat": 4,
 "nbformat_minor": 2
}
