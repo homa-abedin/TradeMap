{
 "cells": [
  {
   "cell_type": "code",
   "execution_count": 23,
   "metadata": {},
   "outputs": [],
   "source": [
    "from selenium import webdriver\n",
    "from selenium.webdriver.common.by import By\n",
    "import pandas as pd\n",
    "from itertools import chain\n",
    "from selenium.webdriver.support.ui import WebDriverWait\n",
    "from selenium.webdriver.support import expected_conditions as EC\n",
    "import time\n",
    "from selenium.webdriver.support.ui import WebDriverWait\n",
    "from selenium.webdriver.support.ui import Select"
   ]
  },
  {
   "cell_type": "code",
   "execution_count": 24,
   "metadata": {},
   "outputs": [],
   "source": [
    "\n",
    "driver= webdriver.Chrome()\n"
   ]
  },
  {
   "cell_type": "code",
   "execution_count": 25,
   "metadata": {},
   "outputs": [],
   "source": [
    "driver.get(\"https://www.trademap.org/Index.aspx\")"
   ]
  },
  {
   "cell_type": "code",
   "execution_count": 26,
   "metadata": {},
   "outputs": [],
   "source": [
    "driver.maximize_window()\n",
    "waits= WebDriverWait(driver, 20)"
   ]
  },
  {
   "cell_type": "markdown",
   "metadata": {},
   "source": [
    "## Login Users"
   ]
  },
  {
   "cell_type": "code",
   "execution_count": 27,
   "metadata": {},
   "outputs": [],
   "source": [
    "login=waits.until(EC.element_to_be_clickable((By.CSS_SELECTOR, '#ctl00_MenuControl_Label_Login')))\n",
    "login.click()\n",
    "getemail= waits.until(EC.element_to_be_clickable((By.CSS_SELECTOR, '#Username')))\n",
    "getemail.send_keys('homa.abedinzadeh@gmail.com')\n",
    "\n",
    "getpassword= waits.until(EC.element_to_be_clickable((By.CSS_SELECTOR, '#Password')))\n",
    "getpassword.send_keys('Aa@97019701')\n",
    "\n",
    "btnlogin=waits.until(EC.element_to_be_clickable((By.CSS_SELECTOR,'body > div.container > div > div:nth-child(2) > div > div > div > form > fieldset > div:nth-child(4) > div > button'))).click()\n",
    "\n"
   ]
  },
  {
   "cell_type": "markdown",
   "metadata": {},
   "source": [
    "## Get Codes and Country"
   ]
  },
  {
   "cell_type": "code",
   "execution_count": 28,
   "metadata": {},
   "outputs": [],
   "source": [
    "inputproduct= waits.until(EC.element_to_be_clickable ((By.CSS_SELECTOR, '#ctl00_PageContent_RadComboBox_Product_Input')))\n",
    "inputproduct.send_keys(' 170410')\n",
    "\n",
    "clkinput= waits.until(EC.element_to_be_clickable((By.CSS_SELECTOR,  '#ctl00_PageContent_RadComboBox_Product_c0'))).click()\n",
    "\n",
    "\n",
    "inputContry= waits.until(EC.element_to_be_clickable((By.CSS_SELECTOR,  '#ctl00_PageContent_RadComboBox_Country_Input')))\n",
    "inputContry.send_keys('Iran, Islamic Republic of')\n",
    "\n",
    "clkinput2= waits.until(EC.element_to_be_clickable((By.CSS_SELECTOR,  '#ctl00_PageContent_RadComboBox_Country_c0'))).click()\n",
    "\n",
    "btn=waits.until(EC.element_to_be_clickable((By.CSS_SELECTOR, '#ctl00_PageContent_Button_TradeIndicators'))).click()\n"
   ]
  },
  {
   "cell_type": "code",
   "execution_count": 29,
   "metadata": {},
   "outputs": [],
   "source": [
    "incshow=waits.until(EC.element_to_be_clickable((By.XPATH , \"//select[@id='ctl00_PageContent_GridViewPanelControl_DropDownList_PageSize']\")))\n",
    "drop=Select(incshow)\n",
    "drop.select_by_value('300')"
   ]
  },
  {
   "cell_type": "code",
   "execution_count": null,
   "metadata": {},
   "outputs": [],
   "source": []
  }
 ],
 "metadata": {
  "kernelspec": {
   "display_name": "base",
   "language": "python",
   "name": "python3"
  },
  "language_info": {
   "codemirror_mode": {
    "name": "ipython",
    "version": 3
   },
   "file_extension": ".py",
   "mimetype": "text/x-python",
   "name": "python",
   "nbconvert_exporter": "python",
   "pygments_lexer": "ipython3",
   "version": "3.11.3"
  }
 },
 "nbformat": 4,
 "nbformat_minor": 2
}
