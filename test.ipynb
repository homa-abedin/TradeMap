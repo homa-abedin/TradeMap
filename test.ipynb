{
 "cells": [
  {
   "cell_type": "code",
   "execution_count": 1,
   "metadata": {},
   "outputs": [
    {
     "name": "stdout",
     "output_type": "stream",
     "text": [
      "Tor IP changed successfully.\n",
      "Tor IP changed successfully.\n",
      "Tor IP changed successfully.\n",
      "Tor IP changed successfully.\n",
      "Tor IP changed successfully.\n"
     ]
    }
   ],
   "source": [
    "import socket\n",
    "import time\n",
    "import random\n",
    "from selenium import webdriver\n",
    "from selenium.webdriver.chrome.options import Options\n",
    "\n",
    "# لیست user-agent ها\n",
    "user_agents = [\n",
    "    'Mozilla/5.0 (Windows NT 10.0; Win64; x64) AppleWebKit/537.36 (KHTML, like Gecko) Chrome/91.0.4472.124 Safari/537.36',\n",
    "    'Mozilla/5.0 (Macintosh; Intel Mac OS X 10_15_7) AppleWebKit/537.36 (KHTML, like Gecko) Chrome/129.0.6668.70 Safari/537.36',\n",
    "]\n",
    "\n",
    "# تابع تغییر آی‌پی Tor\n",
    "def change_tor_ip():\n",
    "    try:\n",
    "        # اتصال به ControlPort Tor\n",
    "        with socket.create_connection(('127.0.0.1', 9051)) as sock:\n",
    "            # ارسال دستور احراز هویت با رمز عبور\n",
    "            sock.send(b'AUTHENTICATE \"Aa@97019701\"\\r\\n')\n",
    "            response = sock.recv(1024).decode(\"utf-8\")\n",
    "            \n",
    "            if response.startswith('250'):\n",
    "                # ارسال سیگنال NEWNYM برای تغییر آی‌پی\n",
    "                sock.send(b'SIGNAL NEWNYM\\r\\n')\n",
    "                response = sock.recv(1024).decode(\"utf-8\")\n",
    "                if response.startswith('250'):\n",
    "                    print(\"Tor IP changed successfully.\")\n",
    "                else:\n",
    "                    print(\"Failed to change Tor IP.\")\n",
    "            else:\n",
    "                print(\"Authentication failed.\")\n",
    "    except Exception as e:\n",
    "        print(f\"Error changing Tor IP: {e}\")\n",
    "\n",
    "\n",
    "# تنظیم Selenium برای استفاده از Tor\n",
    "def setup_driver():\n",
    "    chrome_options = Options()\n",
    "\n",
    "    # انتخاب تصادفی user-agent\n",
    "    user_agent = random.choice(user_agents)\n",
    "    chrome_options.add_argument(f\"user-agent={user_agent}\")\n",
    "    \n",
    "    # تنظیم پروکسی Tor\n",
    "    chrome_options.add_argument('--proxy-server=socks5://127.0.0.1:9050')\n",
    "    \n",
    "    # راه‌اندازی WebDriver\n",
    "    driver = webdriver.Chrome(options=chrome_options)\n",
    "    \n",
    "    return driver\n",
    "\n",
    "# تابع اصلی برای اجرای برنامه\n",
    "def main():\n",
    "    try:\n",
    "        driver = setup_driver()\n",
    "        \n",
    "        for i in range(5):  # 5 بار درخواست ارسال می‌کنیم و آی‌پی تغییر می‌دهیم\n",
    "            driver.get(\"https://www.trademap.org\")\n",
    "            time.sleep(random.randint(5, 10))  # فاصله زمانی تصادفی بین درخواست‌ها\n",
    "            \n",
    "            # تغییر آی‌پی با استفاده از Tor Control Port\n",
    "            change_tor_ip()\n",
    "            \n",
    "            # صبر می‌کنیم تا تغییر آی‌پی اثر کند\n",
    "            time.sleep(10)\n",
    "            \n",
    "    except Exception as e:\n",
    "        print(f\"An error occurred: {e}\")\n",
    "    finally:\n",
    "        driver.quit()\n",
    "\n",
    "# اجرای برنامه\n",
    "main()\n"
   ]
  },
  {
   "cell_type": "code",
   "execution_count": null,
   "metadata": {},
   "outputs": [],
   "source": []
  }
 ],
 "metadata": {
  "kernelspec": {
   "display_name": "base",
   "language": "python",
   "name": "python3"
  },
  "language_info": {
   "codemirror_mode": {
    "name": "ipython",
    "version": 3
   },
   "file_extension": ".py",
   "mimetype": "text/x-python",
   "name": "python",
   "nbconvert_exporter": "python",
   "pygments_lexer": "ipython3",
   "version": "3.11.3"
  }
 },
 "nbformat": 4,
 "nbformat_minor": 2
}
